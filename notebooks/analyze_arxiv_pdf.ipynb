{
  "nbformat": 4,
  "nbformat_minor": 0,
  "metadata": {
    "colab": {
      "provenance": [],
      "authorship_tag": "ABX9TyOSyiQOQD8hZ3zpBquyiECa",
      "include_colab_link": true
    },
    "kernelspec": {
      "name": "python3",
      "display_name": "Python 3"
    },
    "language_info": {
      "name": "python"
    }
  },
  "cells": [
    {
      "cell_type": "markdown",
      "metadata": {
        "id": "view-in-github",
        "colab_type": "text"
      },
      "source": [
        "<a href=\"https://colab.research.google.com/github/deep-diver/auto-paper-analysis/blob/main/notebooks/analyze_arxiv_pdf.ipynb\" target=\"_parent\"><img src=\"https://colab.research.google.com/assets/colab-badge.svg\" alt=\"Open In Colab\"/></a>"
      ]
    },
    {
      "cell_type": "code",
      "source": [
        "from IPython.display import HTML, display\n",
        "from IPython.display import Markdown\n",
        "\n",
        "def set_css():\n",
        "  display(HTML('''\n",
        "  <style>\n",
        "    pre {\n",
        "        white-space: pre-wrap;\n",
        "    }\n",
        "  </style>\n",
        "  '''))\n",
        "get_ipython().events.register('pre_run_cell', set_css)"
      ],
      "metadata": {
        "id": "KV4QkPCAAwmz"
      },
      "execution_count": 1,
      "outputs": []
    },
    {
      "cell_type": "code",
      "source": [
        "!pip install google-generativeai\n",
        "!pip install pypdf2\n",
        "!pip install fitz\n",
        "!pip install pymupdf"
      ],
      "metadata": {
        "id": "Jpxsv3SEs4ET",
        "colab": {
          "base_uri": "https://localhost:8080/"
        },
        "outputId": "8f4662da-9017-4f8b-9e42-613177ed4e29"
      },
      "execution_count": 2,
      "outputs": [
        {
          "output_type": "stream",
          "name": "stdout",
          "text": [
            "Installing collected packages: PyMuPDFb, pymupdf\n",
            "Successfully installed PyMuPDFb-1.23.22 pymupdf-1.23.24\n"
          ]
        }
      ]
    },
    {
      "cell_type": "code",
      "execution_count": 2,
      "metadata": {
        "id": "VEq5clsosz35",
        "colab": {
          "base_uri": "https://localhost:8080/",
          "height": 17
        },
        "outputId": "82fcb2a4-2d61-4649-c657-0525f102b188"
      },
      "outputs": [
        {
          "output_type": "display_data",
          "data": {
            "text/plain": [
              "<IPython.core.display.HTML object>"
            ],
            "text/html": [
              "\n",
              "  <style>\n",
              "    pre {\n",
              "        white-space: pre-wrap;\n",
              "    }\n",
              "  </style>\n",
              "  "
            ]
          },
          "metadata": {}
        }
      ],
      "source": [
        "GEMINI_API_KEY=\"...\""
      ]
    },
    {
      "cell_type": "code",
      "source": [
        "import requests\n",
        "\n",
        "def download_pdf_from_arxiv(arxiv_id):\n",
        "  url = f'http://export.arxiv.org/pdf/{arxiv_id}'\n",
        "  response = requests.get(url)\n",
        "  if response.status_code == 200:\n",
        "    return response.content\n",
        "  else:\n",
        "    raise Exception(f\"Failed to download pdf for arXiv id {arxiv_id}\")\n",
        "\n",
        "# Example usage\n",
        "arxiv_id = \"2402.12226\"\n",
        "pdf_content = download_pdf_from_arxiv(arxiv_id)\n",
        "\n",
        "# Save the pdf content to a file\n",
        "with open(f\"{arxiv_id}.pdf\", \"wb\") as f:\n",
        "  f.write(pdf_content)\n"
      ],
      "metadata": {
        "id": "g9Ima2kQtLPJ",
        "colab": {
          "base_uri": "https://localhost:8080/",
          "height": 17
        },
        "outputId": "0c8901a4-a9d6-464d-ef98-1c0ff6d4aa68"
      },
      "execution_count": 3,
      "outputs": [
        {
          "output_type": "display_data",
          "data": {
            "text/plain": [
              "<IPython.core.display.HTML object>"
            ],
            "text/html": [
              "\n",
              "  <style>\n",
              "    pre {\n",
              "        white-space: pre-wrap;\n",
              "    }\n",
              "  </style>\n",
              "  "
            ]
          },
          "metadata": {}
        }
      ]
    },
    {
      "cell_type": "code",
      "source": [
        "import fitz  # PyMuPDF\n",
        "import PyPDF2\n",
        "\n",
        "def extract_text_and_figures(pdf_path):\n",
        "    \"\"\"\n",
        "    Extracts text and figures from a PDF file.\n",
        "\n",
        "    Args:\n",
        "        pdf_path (str): The path to the PDF file.\n",
        "\n",
        "    Returns:\n",
        "        tuple: A tuple containing two lists:\n",
        "            * A list of extracted text blocks.\n",
        "            * A list of extracted figures (as bytes).\n",
        "    \"\"\"\n",
        "\n",
        "    texts = []\n",
        "    figures = []\n",
        "\n",
        "    # Open the PDF using PyMuPDF (fitz) for image extraction\n",
        "    doc = fitz.open(pdf_path)\n",
        "    for page_num, page in enumerate(doc):\n",
        "        text = page.get_text(\"text\")  # Extract text as plain text\n",
        "        texts.append(text)\n",
        "\n",
        "        # Process images on the page\n",
        "        image_list = page.get_images()\n",
        "        for image_index, img in enumerate(image_list):\n",
        "            xref = img[0]  # Image XREF\n",
        "            pix = fitz.Pixmap(doc, xref)  # Create Pixmap image\n",
        "\n",
        "            # Save image in desired format (here, PNG)\n",
        "            if pix.n < 5:  # Grayscale or RGB\n",
        "                img_bytes = pix.tobytes(\"png\")\n",
        "            else:  # CMYK: Convert to RGB first\n",
        "                pix = fitz.Pixmap(fitz.csRGB, pix)\n",
        "                img_bytes = pix.tobytes(\"png\")\n",
        "\n",
        "            figures.append(img_bytes)\n",
        "\n",
        "    # Extract additional text using PyPDF2 (in case fitz didn't get everything)\n",
        "    with open(pdf_path, 'rb') as pdf_file:\n",
        "        pdf_reader = PyPDF2.PdfReader(pdf_file)\n",
        "        for page_num in range(len(pdf_reader.pages)):\n",
        "            page = pdf_reader.pages[page_num]\n",
        "            text = page.extract_text()\n",
        "            texts.append(text)\n",
        "\n",
        "    return texts, figures\n"
      ],
      "metadata": {
        "id": "wci-rQVXtvHF",
        "colab": {
          "base_uri": "https://localhost:8080/",
          "height": 17
        },
        "outputId": "aa29fa08-e0ec-428a-ad88-c71b179adb6d"
      },
      "execution_count": 4,
      "outputs": [
        {
          "output_type": "display_data",
          "data": {
            "text/plain": [
              "<IPython.core.display.HTML object>"
            ],
            "text/html": [
              "\n",
              "  <style>\n",
              "    pre {\n",
              "        white-space: pre-wrap;\n",
              "    }\n",
              "  </style>\n",
              "  "
            ]
          },
          "metadata": {}
        }
      ]
    },
    {
      "cell_type": "code",
      "source": [
        "texts, figures = extract_text_and_figures(f'{arxiv_id}.pdf')"
      ],
      "metadata": {
        "id": "m9FQwxPyufzQ",
        "colab": {
          "base_uri": "https://localhost:8080/",
          "height": 17
        },
        "outputId": "b4cd95fe-7249-41f5-f054-bfcd6be52cee"
      },
      "execution_count": 5,
      "outputs": [
        {
          "output_type": "display_data",
          "data": {
            "text/plain": [
              "<IPython.core.display.HTML object>"
            ],
            "text/html": [
              "\n",
              "  <style>\n",
              "    pre {\n",
              "        white-space: pre-wrap;\n",
              "    }\n",
              "  </style>\n",
              "  "
            ]
          },
          "metadata": {}
        }
      ]
    },
    {
      "cell_type": "code",
      "source": [
        "texts[0]"
      ],
      "metadata": {
        "colab": {
          "base_uri": "https://localhost:8080/",
          "height": 143
        },
        "id": "hUovrG-5uwbS",
        "outputId": "4b4ae079-9237-4d02-b6d1-fd1ba3dfa379"
      },
      "execution_count": 6,
      "outputs": [
        {
          "output_type": "display_data",
          "data": {
            "text/plain": [
              "<IPython.core.display.HTML object>"
            ],
            "text/html": [
              "\n",
              "  <style>\n",
              "    pre {\n",
              "        white-space: pre-wrap;\n",
              "    }\n",
              "  </style>\n",
              "  "
            ]
          },
          "metadata": {}
        },
        {
          "output_type": "execute_result",
          "data": {
            "text/plain": [
              "'AnyGPT: Unified Multimodal LLM with Discrete Sequence Modeling\\nJun Zhan1,*, Junqi Dai1,*, Jiasheng Ye1,*\\nYunhua Zhou1, Dong Zhang1, Zhigeng Liu1, Xin Zhang1\\nRuibin Yuan2, Ge Zhang2, Linyang Li1, Hang Yan3, Jie Fu2\\nTao Gui1, Tianxiang Sun1, Yugang Jiang1, Xipeng Qiu1,†\\n1Fudan University\\n2 Multimodal Art Projection Research Community\\n3Shanghai AI Laboratory\\nAbstract\\nWe introduce AnyGPT, an any-to-any multi-\\nmodal language model that utilizes discrete\\nrepresentations for the unified processing of\\nvarious modalities, including speech, text,\\nimages, and music. AnyGPT can be trained\\nstably without any alterations to the current\\nlarge language model (LLM) architecture\\nor training paradigms.\\nInstead, it relies\\nexclusively\\non\\ndata-level\\npreprocessing,\\nfacilitating the seamless integration of new\\nmodalities into LLMs, akin to the incorporation\\nof new languages.\\nWe build a multimodal\\ntext-centric dataset for multimodal alignment\\npre-training.\\nUtilizing generative models,\\nwe synthesize the first large-scale any-to-any\\nmultimodal instruction dataset.\\nIt consists\\nof 108k samples of multi-turn conversations\\nthat intricately interweave various modalities,\\nthus equipping the model to handle arbitrary\\ncombinations\\nof\\nmultimodal\\ninputs\\nand\\noutputs. Experimental results demonstrate that\\nAnyGPT is capable of facilitating any-to-any\\nmultimodal\\nconversation while\\nachieving\\nperformance\\ncomparable\\nto\\nspecialized\\nmodels across all modalities, proving that\\ndiscrete representations can effectively and\\nconveniently\\nunify\\nmultiple\\nmodalities\\nwithin a language model. Demos are shown in\\nhttps://junzhan2000.github.io/AnyGPT.github.io/.\\n1\\nIntroduction\\nLLMs have exhibited remarkable proficiency in\\ncomprehending and generating human language.\\nNevertheless, their capabilities are confined to tex-\\ntual processing. The real-world environment is\\ninherently multimodal, with organisms perceiving\\nand exchanging information through diverse chan-\\nnels, including vision, language, sound, and touch.\\nA promising objective in developing multimodal\\nsystems is to augment LLMs with the capacity for\\n* Equal contribution.\\n† Corresponding author.\\nmultimodal perception.\\nThe dominant method-\\nology involves the integration of multimodal en-\\ncoders with the language model, thus empowering\\nit to process information across various modalities\\nand utilize its sophisticated text-processing abili-\\nties to produce coherent responses. However, this\\nstrategy is limited to text generation and does not\\nencompass multimodal output.\\nPioneering efforts such as Emu (Sun et al.,\\n2023b), SEED-LLaMA (Ge et al., 2023b) and\\nSpeechGPT (Zhang et al., 2023a) have made sig-\\nnificant strides by enabling multimodal understand-\\ning and generation within language models. Yet,\\nthese models incorporate only a single non-textual\\nmodality, such as images or audio. While align-\\ning text with one additional modality is relatively\\nstraightforward, integrating multiple modalities\\n(N ≥ 3) within a single framework—and achiev-\\ning bidirectional alignment among them—poses a\\nmore formidable challenge.\\nExisting explorations in any-to-any multi-\\nmodal generation have encountered obstacles:\\nsome (Tang et al., 2023b) lacked a robust core lan-\\nguage model, which impeded the system’s reason-\\ning and decision-making capabilities; Others, such\\nas NExT-GPT (Wu et al., 2023), CoDi-2 (Tang\\net al., 2023a), and Unified-IO2 (Lu et al., 2023),\\nhave employed separately pre-trained encoders and\\ndecoders. This approach results in representational\\ninconsistencies between the inputs and outputs of\\nthe LLMs, which in turn complicates both train-\\ning and inference processes. Moreover, stabilizing\\ntraining with such diverse modalities necessitates\\nsubstantial modifications to existing models and\\ntechniques.\\nTo overcome these challenges, we introduce\\nAnyGPT, an any-to-any multimodal language\\nmodel that employs discrete representations for\\nunified processing. AnyGPT is equipped with mul-\\ntimodal tokenizers that compress raw multimodal\\ndata, such as images and audio, into a sequence of\\n1\\narXiv:2402.12226v1  [cs.CL]  19 Feb 2024\\n'"
            ],
            "application/vnd.google.colaboratory.intrinsic+json": {
              "type": "string"
            }
          },
          "metadata": {},
          "execution_count": 6
        }
      ]
    },
    {
      "cell_type": "code",
      "source": [
        "print(len(figures))\n",
        "print(type(figures[0]))"
      ],
      "metadata": {
        "colab": {
          "base_uri": "https://localhost:8080/",
          "height": 53
        },
        "id": "W06HEk3AwzJa",
        "outputId": "745cd73c-3a3f-4c6c-bd29-aaa251f93f72"
      },
      "execution_count": 8,
      "outputs": [
        {
          "output_type": "display_data",
          "data": {
            "text/plain": [
              "<IPython.core.display.HTML object>"
            ],
            "text/html": [
              "\n",
              "  <style>\n",
              "    pre {\n",
              "        white-space: pre-wrap;\n",
              "    }\n",
              "  </style>\n",
              "  "
            ]
          },
          "metadata": {}
        },
        {
          "output_type": "stream",
          "name": "stdout",
          "text": [
            "93\n",
            "<class 'bytes'>\n"
          ]
        }
      ]
    },
    {
      "cell_type": "code",
      "source": [
        "import io\n",
        "from PIL import Image\n",
        "\n",
        "img = Image.open(io.BytesIO(figures[0]))\n",
        "display(img)"
      ],
      "metadata": {
        "colab": {
          "base_uri": "https://localhost:8080/",
          "height": 301
        },
        "id": "O-LbjMwEw7mM",
        "outputId": "990085fd-a3e2-4ee2-e8ad-33e88434f22e"
      },
      "execution_count": 9,
      "outputs": [
        {
          "output_type": "display_data",
          "data": {
            "text/plain": [
              "<IPython.core.display.HTML object>"
            ],
            "text/html": [
              "\n",
              "  <style>\n",
              "    pre {\n",
              "        white-space: pre-wrap;\n",
              "    }\n",
              "  </style>\n",
              "  "
            ]
          },
          "metadata": {}
        },
        {
          "output_type": "display_data",
          "data": {
            "text/plain": [
              "<PIL.PngImagePlugin.PngImageFile image mode=RGB size=288x284>"
            ],
            "image/png": "[encoded data removed]"
          },
          "metadata": {}
        }
      ]
    },
    {
      "cell_type": "code",
      "source": [
        "def determine_model_name(given_image=None):\n",
        "  if given_image is None:\n",
        "    return \"gemini-pro\"\n",
        "  else:\n",
        "    return \"gemini-pro-vision\"\n",
        "\n",
        "def construct_image_part(given_image):\n",
        "  return {\n",
        "    \"mime_type\": \"image/jpeg\",\n",
        "    \"data\": given_image\n",
        "  }\n",
        "\n",
        "def construct_blog_part(given_blob, mime_type=\"pdf/application\"):\n",
        "  return {\n",
        "      \"mime_type\": mime_type,\n",
        "      \"data\": given_blob\n",
        "  }\n",
        "\n",
        "def call_gemini(prompt=\"\", API_KEY=None, given_text=None, given_image=None, given_blob=None, generation_config=None, safety_settings=None):\n",
        "  import google.generativeai as genai\n",
        "  genai.configure(api_key=API_KEY)\n",
        "\n",
        "  if generation_config is None:\n",
        "    generation_config = {\n",
        "      \"temperature\": 0.8,\n",
        "      \"top_p\": 1,\n",
        "      \"top_k\": 32,\n",
        "      \"max_output_tokens\": 8192,\n",
        "    }\n",
        "\n",
        "  if safety_settings is None:\n",
        "    safety_settings = [\n",
        "      {\n",
        "        \"category\": \"HARM_CATEGORY_HARASSMENT\",\n",
        "        \"threshold\": \"BLOCK_ONLY_HIGH\"\n",
        "      },\n",
        "      {\n",
        "        \"category\": \"HARM_CATEGORY_HATE_SPEECH\",\n",
        "        \"threshold\": \"BLOCK_ONLY_HIGH\"\n",
        "      },\n",
        "      {\n",
        "        \"category\": \"HARM_CATEGORY_SEXUALLY_EXPLICIT\",\n",
        "        \"threshold\": \"BLOCK_ONLY_HIGH\"\n",
        "      },\n",
        "      {\n",
        "        \"category\": \"HARM_CATEGORY_DANGEROUS_CONTENT\",\n",
        "        \"threshold\": \"BLOCK_ONLY_HIGH\"\n",
        "      },\n",
        "    ]\n",
        "\n",
        "  model_name = determine_model_name(given_image)\n",
        "  model = genai.GenerativeModel(model_name=model_name,\n",
        "                                generation_config=generation_config,\n",
        "                                safety_settings=safety_settings)\n",
        "\n",
        "  USER_PROMPT = prompt\n",
        "  if given_text is not None:\n",
        "    USER_PROMPT += f\"\"\"{prompt}\n",
        "  ------------------------------------------------\n",
        "  {given_text}\n",
        "  \"\"\"\n",
        "  prompt_parts = [USER_PROMPT]\n",
        "  if given_image is not None:\n",
        "    prompt_parts.append(construct_image_part(given_image))\n",
        "  if given_blob is not None:\n",
        "    prompt_parts.append(construct_blog_part(given_blob))\n",
        "\n",
        "  response = model.generate_content(prompt_parts)\n",
        "  return response.text"
      ],
      "metadata": {
        "colab": {
          "base_uri": "https://localhost:8080/",
          "height": 17
        },
        "id": "aZlduBW44Uil",
        "outputId": "45237c21-b0b9-4c7a-b907-0ebbff195f8e"
      },
      "execution_count": 50,
      "outputs": [
        {
          "output_type": "display_data",
          "data": {
            "text/plain": [
              "<IPython.core.display.HTML object>"
            ],
            "text/html": [
              "\n",
              "  <style>\n",
              "    pre {\n",
              "        white-space: pre-wrap;\n",
              "    }\n",
              "  </style>\n",
              "  "
            ]
          },
          "metadata": {}
        }
      ]
    },
    {
      "cell_type": "code",
      "source": [
        "import json\n",
        "\n",
        "def find_json_snippet(raw_snippet):\n",
        "\tjson_parsed_string = None\n",
        "\n",
        "\tjson_start_index = raw_snippet.find('{')\n",
        "\tjson_end_index = raw_snippet.rfind('}')\n",
        "\n",
        "\tif json_start_index >= 0 and json_end_index >= 0:\n",
        "\t\tjson_snippet = raw_snippet[json_start_index:json_end_index+1]\n",
        "\t\ttry:\n",
        "\t\t\tjson_parsed_string = json.loads(json_snippet, strict=False)\n",
        "\t\texcept:\n",
        "\t\t\traise ValueError('failed to parse string into JSON format')\n",
        "\telse:\n",
        "\t\traise ValueError('No JSON code snippet found in string.')\n",
        "\n",
        "\treturn json_parsed_string\n",
        "\n",
        "def parse_first_json_snippet(snippet):\n",
        "\tjson_parsed_string = None\n",
        "\n",
        "\tif isinstance(snippet, list):\n",
        "\t\tfor snippet_piece in snippet:\n",
        "\t\t\ttry:\n",
        "\t\t\t\tjson_parsed_string = find_json_snippet(snippet_piece)\n",
        "\t\t\t\treturn json_parsed_string\n",
        "\t\t\texcept:\n",
        "\t\t\t\tpass\n",
        "\telse:\n",
        "\t\ttry:\n",
        "\t\t\tjson_parsed_string = find_json_snippet(snippet)\n",
        "\t\texcept Exception as e:\n",
        "\t\t\tprint(e)\n",
        "\t\t\traise ValueError()\n",
        "\n",
        "\treturn json_parsed_string"
      ],
      "metadata": {
        "colab": {
          "base_uri": "https://localhost:8080/",
          "height": 17
        },
        "id": "x3jCu0ZoYv2k",
        "outputId": "83632f69-1dab-4e4a-9229-a91696ae43e7"
      },
      "execution_count": 51,
      "outputs": [
        {
          "output_type": "display_data",
          "data": {
            "text/plain": [
              "<IPython.core.display.HTML object>"
            ],
            "text/html": [
              "\n",
              "  <style>\n",
              "    pre {\n",
              "        white-space: pre-wrap;\n",
              "    }\n",
              "  </style>\n",
              "  "
            ]
          },
          "metadata": {}
        }
      ]
    },
    {
      "cell_type": "code",
      "source": [
        "text =' '.join(texts)"
      ],
      "metadata": {
        "colab": {
          "base_uri": "https://localhost:8080/",
          "height": 17
        },
        "id": "mh0ohRYSYJBb",
        "outputId": "eb0c1a03-a5ce-4aac-c30f-1cfc94a660ce"
      },
      "execution_count": 52,
      "outputs": [
        {
          "output_type": "display_data",
          "data": {
            "text/plain": [
              "<IPython.core.display.HTML object>"
            ],
            "text/html": [
              "\n",
              "  <style>\n",
              "    pre {\n",
              "        white-space: pre-wrap;\n",
              "    }\n",
              "  </style>\n",
              "  "
            ]
          },
          "metadata": {}
        }
      ]
    },
    {
      "cell_type": "code",
      "source": [
        "prompt = \"\"\"\n",
        "come up with the 10 questions and answers that could be commonly asked by people about the following paper.\n",
        "There should be two types of answers included, one for expert and the other for ELI5.\n",
        "Your response should be recorded in a JSON format as ```json{\"title\": text, \"summary\": text, \"qna\": [{\"question\": \"answers\": {\"eli5\": text, \"expert\": text}}, ...]}```\n",
        "\"\"\""
      ],
      "metadata": {
        "colab": {
          "base_uri": "https://localhost:8080/",
          "height": 17
        },
        "id": "0EcCv4mIWVQz",
        "outputId": "18b35753-4463-4563-bb0b-98cbe13e143d"
      },
      "execution_count": 53,
      "outputs": [
        {
          "output_type": "display_data",
          "data": {
            "text/plain": [
              "<IPython.core.display.HTML object>"
            ],
            "text/html": [
              "\n",
              "  <style>\n",
              "    pre {\n",
              "        white-space: pre-wrap;\n",
              "    }\n",
              "  </style>\n",
              "  "
            ]
          },
          "metadata": {}
        }
      ]
    },
    {
      "cell_type": "code",
      "source": [
        "qna_json = None\n",
        "cur_retry = 0\n",
        "retry_num = 5\n",
        "\n",
        "while qna_json is None and cur_retry < retry_num:\n",
        "  try:\n",
        "    qna = call_gemini(\n",
        "        prompt=prompt,\n",
        "        given_text=text[:7000],\n",
        "        API_KEY=GEMINI_API_KEY\n",
        "    )\n",
        "\n",
        "    qna_json = parse_first_json_snippet(qna)\n",
        "  except:\n",
        "    cur_retry = cur_retry + 1\n",
        "    print(\"retry\")"
      ],
      "metadata": {
        "colab": {
          "base_uri": "https://localhost:8080/",
          "height": 17
        },
        "id": "U11PgP2yyFcD",
        "outputId": "c4df3c69-58c1-4ead-b0e9-93afb6edc729"
      },
      "execution_count": 54,
      "outputs": [
        {
          "output_type": "display_data",
          "data": {
            "text/plain": [
              "<IPython.core.display.HTML object>"
            ],
            "text/html": [
              "\n",
              "  <style>\n",
              "    pre {\n",
              "        white-space: pre-wrap;\n",
              "    }\n",
              "  </style>\n",
              "  "
            ]
          },
          "metadata": {}
        }
      ]
    },
    {
      "cell_type": "code",
      "source": [
        "qna_json"
      ],
      "metadata": {
        "colab": {
          "base_uri": "https://localhost:8080/",
          "height": 981
        },
        "id": "7k4KGMGX9Zps",
        "outputId": "d51e75dc-f80f-498b-824c-19b52a056a7d"
      },
      "execution_count": 55,
      "outputs": [
        {
          "output_type": "display_data",
          "data": {
            "text/plain": [
              "<IPython.core.display.HTML object>"
            ],
            "text/html": [
              "\n",
              "  <style>\n",
              "    pre {\n",
              "        white-space: pre-wrap;\n",
              "    }\n",
              "  </style>\n",
              "  "
            ]
          },
          "metadata": {}
        },
        {
          "output_type": "execute_result",
          "data": {
            "text/plain": [
              "{'title': 'AnyGPT: Unified Multimodal LLM with Discrete Sequence Modeling',\n",
              " 'summary': 'AnyGPT is a unified multimodal language model that can process and generate text, images, music, and speech using discrete representations. It is trained on a new multimodal alignment dataset and a synthesized multimodal instruction dataset, enabling it to handle arbitrary combinations of multimodal inputs and outputs.',\n",
              " 'qna': [{'question': 'What is AnyGPT?',\n",
              "   'answers': {'eli5': 'AnyGPT is a computer program that can understand and generate different types of information, such as text, images, music, and speech.',\n",
              "    'expert': 'AnyGPT is a unified multimodal language model that employs discrete representations for unified processing of various modalities, including speech, text, images, and music.'}},\n",
              "  {'question': 'How does AnyGPT work?',\n",
              "   'answers': {'eli5': 'AnyGPT uses special codes to convert different types of information into a format that it can understand. Then, it processes and generates the information using these codes.',\n",
              "    'expert': 'AnyGPT utilizes multimodal tokenizers to compress raw multimodal data into a sequence of discrete semantic tokens. These tokens are processed by the core LLM autoregressively, and de-tokenizers convert the discrete representations back into the original modal representations.'}},\n",
              "  {'question': 'What are the benefits of using discrete representations?',\n",
              "   'answers': {'eli5': 'Discrete representations help AnyGPT to focus on the important parts of different types of information and ignore the unnecessary details.',\n",
              "    'expert': 'Discrete representations filter out high-frequency, modality-specific perceptual information while preserving essential low-frequency semantic information, enabling stable training without altering the LLM architecture or training paradigms.'}},\n",
              "  {'question': 'How was AnyGPT trained?',\n",
              "   'answers': {'eli5': 'AnyGPT was trained on a lot of data that includes text, images, music, and speech. It learned to understand and generate these different types of information by practicing on this data.',\n",
              "    'expert': 'AnyGPT was trained on a multimodal alignment dataset and a synthesized multimodal instruction dataset. The multimodal alignment dataset helps align different modalities with each other, while the multimodal instruction dataset teaches AnyGPT to handle arbitrary combinations of multimodal inputs and outputs.'}},\n",
              "  {'question': 'What can AnyGPT do?',\n",
              "   'answers': {'eli5': 'AnyGPT can understand and generate different types of information, such as text, images, music, and speech. It can also translate between different modalities, such as generating an image from a text description or creating music from a text prompt.',\n",
              "    'expert': 'AnyGPT achieves zero-shot performance comparable to that of specialized models across various modalities. It can also facilitate any-to-any multimodal dialogue, substantiating the feasibility of using discrete representations to unify multiple modalities.'}},\n",
              "  {'question': 'What are the limitations of AnyGPT?',\n",
              "   'answers': {'eli5': 'AnyGPT is still a work in progress and there are some things that it cannot do yet. For example, it cannot generate perfect images or music, and it sometimes makes mistakes when translating between different modalities.',\n",
              "    'expert': 'The current version of AnyGPT is limited to four modalities: text, images, music, and speech. Additionally, it may encounter challenges in handling complex or ambiguous multimodal inputs.'}},\n",
              "  {'question': 'What are the potential applications of AnyGPT?',\n",
              "   'answers': {'eli5': 'AnyGPT can be used to create new types of applications that combine different types of information. For example, it could be used to create a virtual assistant that can answer questions, generate images, and play music.',\n",
              "    'expert': 'AnyGPT has the potential to revolutionize various fields, including multimodal search, creative content generation, and human-computer interaction.'}},\n",
              "  {'question': 'What is the future of AnyGPT?',\n",
              "   'answers': {'eli5': 'AnyGPT is still under development and there is a lot of potential for it to improve in the future. Researchers are working on making it more accurate, efficient, and versatile.',\n",
              "    'expert': 'Future research directions for AnyGPT include expanding the range of supported modalities, improving the quality of multimodal generation, and exploring new applications.'}},\n",
              "  {'question': 'How can I use AnyGPT?',\n",
              "   'answers': {'eli5': 'You can use AnyGPT through a variety of interfaces, such as a website or an API. You can also download the code and run it on your own computer.',\n",
              "    'expert': 'AnyGPT is open-source and available for download on GitHub. Developers can use the model for research and development purposes.'}},\n",
              "  {'question': 'What are the ethical implications of AnyGPT?',\n",
              "   'answers': {'eli5': 'As with any powerful technology, there are some ethical concerns that need to be considered when using AnyGPT. For example, it is important to ensure that the model is not used to spread misinformation or to create harmful content.',\n",
              "    'expert': 'The ethical implications of AnyGPT and other multimodal AI models are still being explored. Researchers and policymakers are working to develop guidelines for the responsible use of these technologies.'}}]}"
            ]
          },
          "metadata": {},
          "execution_count": 55
        }
      ]
    },
    {
      "cell_type": "code",
      "source": [
        "qna_json['summary']"
      ],
      "metadata": {
        "colab": {
          "base_uri": "https://localhost:8080/",
          "height": 71
        },
        "id": "EGvnxGpLYqEc",
        "outputId": "ddb2223a-7d86-4b40-c52d-dac0c991721a"
      },
      "execution_count": 56,
      "outputs": [
        {
          "output_type": "display_data",
          "data": {
            "text/plain": [
              "<IPython.core.display.HTML object>"
            ],
            "text/html": [
              "\n",
              "  <style>\n",
              "    pre {\n",
              "        white-space: pre-wrap;\n",
              "    }\n",
              "  </style>\n",
              "  "
            ]
          },
          "metadata": {}
        },
        {
          "output_type": "execute_result",
          "data": {
            "text/plain": [
              "'AnyGPT is a unified multimodal language model that can process and generate text, images, music, and speech using discrete representations. It is trained on a new multimodal alignment dataset and a synthesized multimodal instruction dataset, enabling it to handle arbitrary combinations of multimodal inputs and outputs.'"
            ],
            "application/vnd.google.colaboratory.intrinsic+json": {
              "type": "string"
            }
          },
          "metadata": {},
          "execution_count": 56
        }
      ]
    },
    {
      "cell_type": "code",
      "source": [
        "qna_json['qna']"
      ],
      "metadata": {
        "colab": {
          "base_uri": "https://localhost:8080/",
          "height": 910
        },
        "id": "ddcUjLlyfZqx",
        "outputId": "ee2609ec-4a8a-4d66-965e-651974fb09dc"
      },
      "execution_count": 57,
      "outputs": [
        {
          "output_type": "display_data",
          "data": {
            "text/plain": [
              "<IPython.core.display.HTML object>"
            ],
            "text/html": [
              "\n",
              "  <style>\n",
              "    pre {\n",
              "        white-space: pre-wrap;\n",
              "    }\n",
              "  </style>\n",
              "  "
            ]
          },
          "metadata": {}
        },
        {
          "output_type": "execute_result",
          "data": {
            "text/plain": [
              "[{'question': 'What is AnyGPT?',\n",
              "  'answers': {'eli5': 'AnyGPT is a computer program that can understand and generate different types of information, such as text, images, music, and speech.',\n",
              "   'expert': 'AnyGPT is a unified multimodal language model that employs discrete representations for unified processing of various modalities, including speech, text, images, and music.'}},\n",
              " {'question': 'How does AnyGPT work?',\n",
              "  'answers': {'eli5': 'AnyGPT uses special codes to convert different types of information into a format that it can understand. Then, it processes and generates the information using these codes.',\n",
              "   'expert': 'AnyGPT utilizes multimodal tokenizers to compress raw multimodal data into a sequence of discrete semantic tokens. These tokens are processed by the core LLM autoregressively, and de-tokenizers convert the discrete representations back into the original modal representations.'}},\n",
              " {'question': 'What are the benefits of using discrete representations?',\n",
              "  'answers': {'eli5': 'Discrete representations help AnyGPT to focus on the important parts of different types of information and ignore the unnecessary details.',\n",
              "   'expert': 'Discrete representations filter out high-frequency, modality-specific perceptual information while preserving essential low-frequency semantic information, enabling stable training without altering the LLM architecture or training paradigms.'}},\n",
              " {'question': 'How was AnyGPT trained?',\n",
              "  'answers': {'eli5': 'AnyGPT was trained on a lot of data that includes text, images, music, and speech. It learned to understand and generate these different types of information by practicing on this data.',\n",
              "   'expert': 'AnyGPT was trained on a multimodal alignment dataset and a synthesized multimodal instruction dataset. The multimodal alignment dataset helps align different modalities with each other, while the multimodal instruction dataset teaches AnyGPT to handle arbitrary combinations of multimodal inputs and outputs.'}},\n",
              " {'question': 'What can AnyGPT do?',\n",
              "  'answers': {'eli5': 'AnyGPT can understand and generate different types of information, such as text, images, music, and speech. It can also translate between different modalities, such as generating an image from a text description or creating music from a text prompt.',\n",
              "   'expert': 'AnyGPT achieves zero-shot performance comparable to that of specialized models across various modalities. It can also facilitate any-to-any multimodal dialogue, substantiating the feasibility of using discrete representations to unify multiple modalities.'}},\n",
              " {'question': 'What are the limitations of AnyGPT?',\n",
              "  'answers': {'eli5': 'AnyGPT is still a work in progress and there are some things that it cannot do yet. For example, it cannot generate perfect images or music, and it sometimes makes mistakes when translating between different modalities.',\n",
              "   'expert': 'The current version of AnyGPT is limited to four modalities: text, images, music, and speech. Additionally, it may encounter challenges in handling complex or ambiguous multimodal inputs.'}},\n",
              " {'question': 'What are the potential applications of AnyGPT?',\n",
              "  'answers': {'eli5': 'AnyGPT can be used to create new types of applications that combine different types of information. For example, it could be used to create a virtual assistant that can answer questions, generate images, and play music.',\n",
              "   'expert': 'AnyGPT has the potential to revolutionize various fields, including multimodal search, creative content generation, and human-computer interaction.'}},\n",
              " {'question': 'What is the future of AnyGPT?',\n",
              "  'answers': {'eli5': 'AnyGPT is still under development and there is a lot of potential for it to improve in the future. Researchers are working on making it more accurate, efficient, and versatile.',\n",
              "   'expert': 'Future research directions for AnyGPT include expanding the range of supported modalities, improving the quality of multimodal generation, and exploring new applications.'}},\n",
              " {'question': 'How can I use AnyGPT?',\n",
              "  'answers': {'eli5': 'You can use AnyGPT through a variety of interfaces, such as a website or an API. You can also download the code and run it on your own computer.',\n",
              "   'expert': 'AnyGPT is open-source and available for download on GitHub. Developers can use the model for research and development purposes.'}},\n",
              " {'question': 'What are the ethical implications of AnyGPT?',\n",
              "  'answers': {'eli5': 'As with any powerful technology, there are some ethical concerns that need to be considered when using AnyGPT. For example, it is important to ensure that the model is not used to spread misinformation or to create harmful content.',\n",
              "   'expert': 'The ethical implications of AnyGPT and other multimodal AI models are still being explored. Researchers and policymakers are working to develop guidelines for the responsible use of these technologies.'}}]"
            ]
          },
          "metadata": {},
          "execution_count": 57
        }
      ]
    },
    {
      "cell_type": "code",
      "source": [
        "fig0_desc = call_gemini(\n",
        "    prompt=f'Below is the summary of the academic paper, {qna_json[\"title\"]}. '\n",
        "           'Based on the summary, give me the description of the given figure. '\n",
        "           'Give me your response by filling in the following JSON. '\n",
        "           '{\"description\": text}',\n",
        "    given_text=qna_json['summary'],\n",
        "    given_image=figures[0],\n",
        "    API_KEY=GEMINI_API_KEY\n",
        ")"
      ],
      "metadata": {
        "colab": {
          "base_uri": "https://localhost:8080/",
          "height": 17
        },
        "id": "NBo9-DyP-xgQ",
        "outputId": "8a759e4a-b04c-4d46-fabe-b9bd2220058b"
      },
      "execution_count": 58,
      "outputs": [
        {
          "output_type": "display_data",
          "data": {
            "text/plain": [
              "<IPython.core.display.HTML object>"
            ],
            "text/html": [
              "\n",
              "  <style>\n",
              "    pre {\n",
              "        white-space: pre-wrap;\n",
              "    }\n",
              "  </style>\n",
              "  "
            ]
          },
          "metadata": {}
        }
      ]
    },
    {
      "cell_type": "code",
      "source": [
        "fig0_desc"
      ],
      "metadata": {
        "colab": {
          "base_uri": "https://localhost:8080/",
          "height": 53
        },
        "id": "OqiOW3CcX7hT",
        "outputId": "34e1f060-2f68-4424-ff7e-7370478b8e28"
      },
      "execution_count": 59,
      "outputs": [
        {
          "output_type": "display_data",
          "data": {
            "text/plain": [
              "<IPython.core.display.HTML object>"
            ],
            "text/html": [
              "\n",
              "  <style>\n",
              "    pre {\n",
              "        white-space: pre-wrap;\n",
              "    }\n",
              "  </style>\n",
              "  "
            ]
          },
          "metadata": {}
        },
        {
          "output_type": "execute_result",
          "data": {
            "text/plain": [
              "' The figure shows an anime girl with brown hair and yellow eyes making a peace sign. She is standing in front of a blackboard with musical notes written on it.'"
            ],
            "application/vnd.google.colaboratory.intrinsic+json": {
              "type": "string"
            }
          },
          "metadata": {},
          "execution_count": 59
        }
      ]
    },
    {
      "cell_type": "markdown",
      "source": [
        "## Analyze deeper"
      ],
      "metadata": {
        "id": "hjSkq7AzwebO"
      }
    },
    {
      "cell_type": "markdown",
      "source": [
        "### Title"
      ],
      "metadata": {
        "id": "CHzelDmawqy8"
      }
    },
    {
      "cell_type": "code",
      "source": [
        "Markdown(f\"# {qna_json['title']}\")"
      ],
      "metadata": {
        "id": "L08gV3DMbIoT",
        "colab": {
          "base_uri": "https://localhost:8080/",
          "height": 74
        },
        "outputId": "2d3ba171-a26a-465b-944b-eb85680d1f0d"
      },
      "execution_count": 60,
      "outputs": [
        {
          "output_type": "display_data",
          "data": {
            "text/plain": [
              "<IPython.core.display.HTML object>"
            ],
            "text/html": [
              "\n",
              "  <style>\n",
              "    pre {\n",
              "        white-space: pre-wrap;\n",
              "    }\n",
              "  </style>\n",
              "  "
            ]
          },
          "metadata": {}
        },
        {
          "output_type": "execute_result",
          "data": {
            "text/plain": [
              "<IPython.core.display.Markdown object>"
            ],
            "text/markdown": "# AnyGPT: Unified Multimodal LLM with Discrete Sequence Modeling"
          },
          "metadata": {},
          "execution_count": 60
        }
      ]
    },
    {
      "cell_type": "markdown",
      "source": [
        "### Summary"
      ],
      "metadata": {
        "id": "6J1k0N_iwyXV"
      }
    },
    {
      "cell_type": "code",
      "source": [
        "Markdown(f\"### {qna_json['summary']}\")"
      ],
      "metadata": {
        "colab": {
          "base_uri": "https://localhost:8080/",
          "height": 98
        },
        "id": "zw-i8qViwouk",
        "outputId": "d2ea7c0a-85f2-4a6b-c2ef-3e01ad871dcb"
      },
      "execution_count": 61,
      "outputs": [
        {
          "output_type": "display_data",
          "data": {
            "text/plain": [
              "<IPython.core.display.HTML object>"
            ],
            "text/html": [
              "\n",
              "  <style>\n",
              "    pre {\n",
              "        white-space: pre-wrap;\n",
              "    }\n",
              "  </style>\n",
              "  "
            ]
          },
          "metadata": {}
        },
        {
          "output_type": "execute_result",
          "data": {
            "text/plain": [
              "<IPython.core.display.Markdown object>"
            ],
            "text/markdown": "### AnyGPT is a unified multimodal language model that can process and generate text, images, music, and speech using discrete representations. It is trained on a new multimodal alignment dataset and a synthesized multimodal instruction dataset, enabling it to handle arbitrary combinations of multimodal inputs and outputs."
          },
          "metadata": {},
          "execution_count": 61
        }
      ]
    },
    {
      "cell_type": "markdown",
      "source": [
        "### QnAs"
      ],
      "metadata": {
        "id": "UdhOGoxFxp1c"
      }
    },
    {
      "cell_type": "code",
      "source": [
        "for qna in qna_json['qna']:\n",
        "  q = qna['question']\n",
        "  a_eli5 = qna['answers']['eli5']\n",
        "  a_expert = qna['answers']['expert']\n",
        "\n",
        "  print(f\"⦿ {q}\")\n",
        "  print(f\"-- ELI5: {a_eli5}\")\n",
        "  print(f\"-- Expert: {a_expert}\\n\")"
      ],
      "metadata": {
        "colab": {
          "base_uri": "https://localhost:8080/",
          "height": 1000
        },
        "id": "x4dS4u4tw1H5",
        "outputId": "b3debdd8-7489-47d2-df5a-ed82ea4070c2"
      },
      "execution_count": 62,
      "outputs": [
        {
          "output_type": "display_data",
          "data": {
            "text/plain": [
              "<IPython.core.display.HTML object>"
            ],
            "text/html": [
              "\n",
              "  <style>\n",
              "    pre {\n",
              "        white-space: pre-wrap;\n",
              "    }\n",
              "  </style>\n",
              "  "
            ]
          },
          "metadata": {}
        },
        {
          "output_type": "stream",
          "name": "stdout",
          "text": [
            "⦿ What is AnyGPT?\n",
            "-- ELI5: AnyGPT is a computer program that can understand and generate different types of information, such as text, images, music, and speech.\n",
            "-- Expert: AnyGPT is a unified multimodal language model that employs discrete representations for unified processing of various modalities, including speech, text, images, and music.\n",
            "\n",
            "⦿ How does AnyGPT work?\n",
            "-- ELI5: AnyGPT uses special codes to convert different types of information into a format that it can understand. Then, it processes and generates the information using these codes.\n",
            "-- Expert: AnyGPT utilizes multimodal tokenizers to compress raw multimodal data into a sequence of discrete semantic tokens. These tokens are processed by the core LLM autoregressively, and de-tokenizers convert the discrete representations back into the original modal representations.\n",
            "\n",
            "⦿ What are the benefits of using discrete representations?\n",
            "-- ELI5: Discrete representations help AnyGPT to focus on the important parts of different types of information and ignore the unnecessary details.\n",
            "-- Expert: Discrete representations filter out high-frequency, modality-specific perceptual information while preserving essential low-frequency semantic information, enabling stable training without altering the LLM architecture or training paradigms.\n",
            "\n",
            "⦿ How was AnyGPT trained?\n",
            "-- ELI5: AnyGPT was trained on a lot of data that includes text, images, music, and speech. It learned to understand and generate these different types of information by practicing on this data.\n",
            "-- Expert: AnyGPT was trained on a multimodal alignment dataset and a synthesized multimodal instruction dataset. The multimodal alignment dataset helps align different modalities with each other, while the multimodal instruction dataset teaches AnyGPT to handle arbitrary combinations of multimodal inputs and outputs.\n",
            "\n",
            "⦿ What can AnyGPT do?\n",
            "-- ELI5: AnyGPT can understand and generate different types of information, such as text, images, music, and speech. It can also translate between different modalities, such as generating an image from a text description or creating music from a text prompt.\n",
            "-- Expert: AnyGPT achieves zero-shot performance comparable to that of specialized models across various modalities. It can also facilitate any-to-any multimodal dialogue, substantiating the feasibility of using discrete representations to unify multiple modalities.\n",
            "\n",
            "⦿ What are the limitations of AnyGPT?\n",
            "-- ELI5: AnyGPT is still a work in progress and there are some things that it cannot do yet. For example, it cannot generate perfect images or music, and it sometimes makes mistakes when translating between different modalities.\n",
            "-- Expert: The current version of AnyGPT is limited to four modalities: text, images, music, and speech. Additionally, it may encounter challenges in handling complex or ambiguous multimodal inputs.\n",
            "\n",
            "⦿ What are the potential applications of AnyGPT?\n",
            "-- ELI5: AnyGPT can be used to create new types of applications that combine different types of information. For example, it could be used to create a virtual assistant that can answer questions, generate images, and play music.\n",
            "-- Expert: AnyGPT has the potential to revolutionize various fields, including multimodal search, creative content generation, and human-computer interaction.\n",
            "\n",
            "⦿ What is the future of AnyGPT?\n",
            "-- ELI5: AnyGPT is still under development and there is a lot of potential for it to improve in the future. Researchers are working on making it more accurate, efficient, and versatile.\n",
            "-- Expert: Future research directions for AnyGPT include expanding the range of supported modalities, improving the quality of multimodal generation, and exploring new applications.\n",
            "\n",
            "⦿ How can I use AnyGPT?\n",
            "-- ELI5: You can use AnyGPT through a variety of interfaces, such as a website or an API. You can also download the code and run it on your own computer.\n",
            "-- Expert: AnyGPT is open-source and available for download on GitHub. Developers can use the model for research and development purposes.\n",
            "\n",
            "⦿ What are the ethical implications of AnyGPT?\n",
            "-- ELI5: As with any powerful technology, there are some ethical concerns that need to be considered when using AnyGPT. For example, it is important to ensure that the model is not used to spread misinformation or to create harmful content.\n",
            "-- Expert: The ethical implications of AnyGPT and other multimodal AI models are still being explored. Researchers and policymakers are working to develop guidelines for the responsible use of these technologies.\n",
            "\n"
          ]
        }
      ]
    },
    {
      "cell_type": "markdown",
      "source": [
        "### More QnAs"
      ],
      "metadata": {
        "id": "M-yV7usDxsC4"
      }
    },
    {
      "cell_type": "code",
      "source": [
        "deep_prompt = \"\"\"\n",
        "Paper title: %s\n",
        "Previous question: %s\n",
        "The answer on the previous question: %s\n",
        "\n",
        "Based on the previous question and answer above, and based on the paper content below, suggest follow-up question and answers in %s manner.\n",
        "There should be two types of answers included, one for expert and the other for ELI5.\n",
        "Your response should be recorded in a JSON format as ```json{\"follow up question\": text, \"answers\": {\"eli5\": text, \"expert\": text}}```\"\"\""
      ],
      "metadata": {
        "colab": {
          "base_uri": "https://localhost:8080/",
          "height": 17
        },
        "id": "dh6otXWVyMcc",
        "outputId": "4d2ec4b6-15f1-40c7-eed4-62d9c2b76913"
      },
      "execution_count": 63,
      "outputs": [
        {
          "output_type": "display_data",
          "data": {
            "text/plain": [
              "<IPython.core.display.HTML object>"
            ],
            "text/html": [
              "\n",
              "  <style>\n",
              "    pre {\n",
              "        white-space: pre-wrap;\n",
              "    }\n",
              "  </style>\n",
              "  "
            ]
          },
          "metadata": {}
        }
      ]
    },
    {
      "cell_type": "code",
      "source": [
        "title = qna_json['title']"
      ],
      "metadata": {
        "colab": {
          "base_uri": "https://localhost:8080/",
          "height": 17
        },
        "id": "Inwi7rUnyxrn",
        "outputId": "41eb8fcb-0b8c-4c93-f9e6-05c0c92bc327"
      },
      "execution_count": 64,
      "outputs": [
        {
          "output_type": "display_data",
          "data": {
            "text/plain": [
              "<IPython.core.display.HTML object>"
            ],
            "text/html": [
              "\n",
              "  <style>\n",
              "    pre {\n",
              "        white-space: pre-wrap;\n",
              "    }\n",
              "  </style>\n",
              "  "
            ]
          },
          "metadata": {}
        }
      ]
    },
    {
      "cell_type": "code",
      "source": [
        "def try_out(prompt, given_text, given_image=None, gemini_api_key=GEMINI_API_KEY, retry_num=3):\n",
        "  qna_json = None\n",
        "  cur_retry = 0\n",
        "\n",
        "  while qna_json is None and cur_retry < retry_num:\n",
        "    try:\n",
        "      qna = call_gemini(\n",
        "          prompt=prompt,\n",
        "          given_text=given_text,\n",
        "          given_image=given_image,\n",
        "          API_KEY=gemini_api_key\n",
        "      )\n",
        "\n",
        "      qna_json = parse_first_json_snippet(qna)\n",
        "    except:\n",
        "      cur_retry = cur_retry + 1\n",
        "      print(\"retry\")\n",
        "\n",
        "  return qna_json"
      ],
      "metadata": {
        "colab": {
          "base_uri": "https://localhost:8080/",
          "height": 17
        },
        "id": "ZvFsGf4m0o23",
        "outputId": "91dc844b-c1c6-4220-be06-dbc12e3a7e8d"
      },
      "execution_count": 65,
      "outputs": [
        {
          "output_type": "display_data",
          "data": {
            "text/plain": [
              "<IPython.core.display.HTML object>"
            ],
            "text/html": [
              "\n",
              "  <style>\n",
              "    pre {\n",
              "        white-space: pre-wrap;\n",
              "    }\n",
              "  </style>\n",
              "  "
            ]
          },
          "metadata": {}
        }
      ]
    },
    {
      "cell_type": "code",
      "source": [
        "import copy\n",
        "\n",
        "qnas = copy.deepcopy(qna_json['qna'])\n",
        "\n",
        "for qna in qnas:\n",
        "  q = qna['question']\n",
        "  a_expert = qna['answers']['expert']\n",
        "\n",
        "  depth_search_prompt = deep_prompt % (title, q, a_expert, \"in-depth\")\n",
        "  breath_search_prompt = deep_prompt % (title, q, a_expert, \"broad\")\n",
        "\n",
        "  depth_search_response = {}\n",
        "  breath_search_response = {}\n",
        "\n",
        "  while 'follow up question' not in depth_search_response or \\\n",
        "      'answers' not in depth_search_response or \\\n",
        "      'eli5' not in depth_search_response['answers'] or \\\n",
        "      'expert' not in depth_search_response['answers']:\n",
        "      depth_search_response = try_out(depth_search_prompt, text[:7000], gemini_api_key=GEMINI_API_KEY)\n",
        "\n",
        "  while 'follow up question' not in breath_search_response or \\\n",
        "      'answers' not in breath_search_response or \\\n",
        "      'eli5' not in breath_search_response['answers'] or \\\n",
        "      'expert' not in breath_search_response['answers']:\n",
        "      breath_search_response = try_out(breath_search_prompt, text[:7000], gemini_api_key=GEMINI_API_KEY)\n",
        "\n",
        "  if depth_search_response is not None:\n",
        "    qna['additional_depth_q'] = depth_search_response\n",
        "  if breath_search_response is not None:\n",
        "    qna['additional_breath_q'] = breath_search_response"
      ],
      "metadata": {
        "colab": {
          "base_uri": "https://localhost:8080/",
          "height": 88
        },
        "id": "NaaMsopHxOmD",
        "outputId": "f6604487-da56-4e33-bbfe-3a5d03b51fbd"
      },
      "execution_count": 66,
      "outputs": [
        {
          "output_type": "display_data",
          "data": {
            "text/plain": [
              "<IPython.core.display.HTML object>"
            ],
            "text/html": [
              "\n",
              "  <style>\n",
              "    pre {\n",
              "        white-space: pre-wrap;\n",
              "    }\n",
              "  </style>\n",
              "  "
            ]
          },
          "metadata": {}
        },
        {
          "output_type": "stream",
          "name": "stdout",
          "text": [
            "No JSON code snippet found in string.\n",
            "retry\n",
            "No JSON code snippet found in string.\n",
            "retry\n"
          ]
        }
      ]
    },
    {
      "cell_type": "code",
      "source": [
        "qnas[0]"
      ],
      "metadata": {
        "colab": {
          "base_uri": "https://localhost:8080/",
          "height": 499
        },
        "id": "NNsj9rb01NvK",
        "outputId": "a7c1dce2-f36a-442e-dcd3-2bdd78d30404"
      },
      "execution_count": 67,
      "outputs": [
        {
          "output_type": "display_data",
          "data": {
            "text/plain": [
              "<IPython.core.display.HTML object>"
            ],
            "text/html": [
              "\n",
              "  <style>\n",
              "    pre {\n",
              "        white-space: pre-wrap;\n",
              "    }\n",
              "  </style>\n",
              "  "
            ]
          },
          "metadata": {}
        },
        {
          "output_type": "execute_result",
          "data": {
            "text/plain": [
              "{'question': 'What is AnyGPT?',\n",
              " 'answers': {'eli5': 'AnyGPT is a computer program that can understand and generate different types of information, such as text, images, music, and speech.',\n",
              "  'expert': 'AnyGPT is a unified multimodal language model that employs discrete representations for unified processing of various modalities, including speech, text, images, and music.'},\n",
              " 'additional_depth_q': {'follow up question': 'What are the key differences between AnyGPT and other multimodal language models?',\n",
              "  'answers': {'eli5': \"AnyGPT is different from other multimodal language models in three key ways:\\n\\n1. It uses discrete representations to encode different types of information, like images, sounds, and text, into a common format. This makes it easier for the model to understand and generate content that combines different modalities.\\n\\n2. AnyGPT is trained on a new dataset that includes instructions for how to combine different modalities. This helps the model learn how to generate content that is both coherent and relevant to the user's request.\\n\\n3. AnyGPT is able to handle arbitrary combinations of multimodal inputs and outputs. This means that it can understand and generate content that combines any number of different modalities, such as images, sounds, and text.\",\n",
              "   'expert': \"**Discrete representations:** AnyGPT uses discrete representations to encode different types of information into a common format. This is in contrast to other multimodal models that typically use continuous representations, which can be more difficult to train and use. Discrete representations allow AnyGPT to represent information in a more structured and efficient way, which makes it easier to understand and generate content that combines different modalities.\\n\\n**New training dataset:** AnyGPT is trained on a new dataset that includes instructions for how to combine different modalities. This helps the model learn how to generate content that is both coherent and relevant to the user's request. The dataset is also much larger than the datasets used to train other multimodal models, which gives AnyGPT a significant advantage in terms of performance.\\n\\n**Handles arbitrary combinations of modalities:** AnyGPT is able to handle arbitrary combinations of multimodal inputs and outputs. This means that it can understand and generate content that combines any number of different modalities, such as images, sounds, and text. This is a major advantage over other multimodal models, which are typically limited to handling a specific set of modalities.\"}},\n",
              " 'additional_breath_q': {'follow up question': 'How does AnyGPT unify different modalities?',\n",
              "  'answers': {'eli5': 'AnyGPT uses a special technique to turn different types of information, like images, music, and text, into a common language that it can understand. This allows it to work with all these types of information at once, just like a person can understand different languages.',\n",
              "   'expert': 'AnyGPT employs discrete representations to convert diverse modalities into sequences of semantic tokens. These representations enable the unified processing of modalities within a single LLM architecture, facilitating perception, understanding, reasoning, and generation at the semantic level.'}}}"
            ]
          },
          "metadata": {},
          "execution_count": 67
        }
      ]
    },
    {
      "cell_type": "code",
      "source": [
        "qnas"
      ],
      "metadata": {
        "colab": {
          "base_uri": "https://localhost:8080/",
          "height": 1000
        },
        "id": "Fd-_3A7A3rvz",
        "outputId": "0aa7af88-fd69-4557-ea79-fc76150bd7fa"
      },
      "execution_count": 68,
      "outputs": [
        {
          "output_type": "display_data",
          "data": {
            "text/plain": [
              "<IPython.core.display.HTML object>"
            ],
            "text/html": [
              "\n",
              "  <style>\n",
              "    pre {\n",
              "        white-space: pre-wrap;\n",
              "    }\n",
              "  </style>\n",
              "  "
            ]
          },
          "metadata": {}
        },
        {
          "output_type": "execute_result",
          "data": {
            "text/plain": [
              "[{'question': 'What is AnyGPT?',\n",
              "  'answers': {'eli5': 'AnyGPT is a computer program that can understand and generate different types of information, such as text, images, music, and speech.',\n",
              "   'expert': 'AnyGPT is a unified multimodal language model that employs discrete representations for unified processing of various modalities, including speech, text, images, and music.'},\n",
              "  'additional_depth_q': {'follow up question': 'What are the key differences between AnyGPT and other multimodal language models?',\n",
              "   'answers': {'eli5': \"AnyGPT is different from other multimodal language models in three key ways:\\n\\n1. It uses discrete representations to encode different types of information, like images, sounds, and text, into a common format. This makes it easier for the model to understand and generate content that combines different modalities.\\n\\n2. AnyGPT is trained on a new dataset that includes instructions for how to combine different modalities. This helps the model learn how to generate content that is both coherent and relevant to the user's request.\\n\\n3. AnyGPT is able to handle arbitrary combinations of multimodal inputs and outputs. This means that it can understand and generate content that combines any number of different modalities, such as images, sounds, and text.\",\n",
              "    'expert': \"**Discrete representations:** AnyGPT uses discrete representations to encode different types of information into a common format. This is in contrast to other multimodal models that typically use continuous representations, which can be more difficult to train and use. Discrete representations allow AnyGPT to represent information in a more structured and efficient way, which makes it easier to understand and generate content that combines different modalities.\\n\\n**New training dataset:** AnyGPT is trained on a new dataset that includes instructions for how to combine different modalities. This helps the model learn how to generate content that is both coherent and relevant to the user's request. The dataset is also much larger than the datasets used to train other multimodal models, which gives AnyGPT a significant advantage in terms of performance.\\n\\n**Handles arbitrary combinations of modalities:** AnyGPT is able to handle arbitrary combinations of multimodal inputs and outputs. This means that it can understand and generate content that combines any number of different modalities, such as images, sounds, and text. This is a major advantage over other multimodal models, which are typically limited to handling a specific set of modalities.\"}},\n",
              "  'additional_breath_q': {'follow up question': 'How does AnyGPT unify different modalities?',\n",
              "   'answers': {'eli5': 'AnyGPT uses a special technique to turn different types of information, like images, music, and text, into a common language that it can understand. This allows it to work with all these types of information at once, just like a person can understand different languages.',\n",
              "    'expert': 'AnyGPT employs discrete representations to convert diverse modalities into sequences of semantic tokens. These representations enable the unified processing of modalities within a single LLM architecture, facilitating perception, understanding, reasoning, and generation at the semantic level.'}}},\n",
              " {'question': 'How does AnyGPT work?',\n",
              "  'answers': {'eli5': 'AnyGPT uses special codes to convert different types of information into a format that it can understand. Then, it processes and generates the information using these codes.',\n",
              "   'expert': 'AnyGPT utilizes multimodal tokenizers to compress raw multimodal data into a sequence of discrete semantic tokens. These tokens are processed by the core LLM autoregressively, and de-tokenizers convert the discrete representations back into the original modal representations.'},\n",
              "  'additional_depth_q': {'follow up question': 'How does AnyGPT avoid the need for modifications to the LLM architecture and training paradigms by solely relying on data-level preprocessing?',\n",
              "   'answers': {'eli5': 'Imagine AnyGPT as a magic machine that can understand and create things from different worlds, like words, pictures, and sounds. Instead of changing the machine itself, AnyGPT uses a trick. It takes the different worlds and turns them into a special language that the machine can understand. This way, the machine can work with all the different worlds without changing its core.',\n",
              "    'expert': \"AnyGPT utilizes discrete representations to unify the processing of various modalities, enabling the LLM to handle perception, understanding, reasoning, and generation autoregressively. This approach circumvents the need for architectural modifications or alterations to training paradigms. By utilizing data-level preprocessing, AnyGPT seamlessly integrates new modalities without disrupting the LLM's core functionality.\"}},\n",
              "  'additional_breath_q': {'follow up question': 'What are the benefits of using discrete representations in AnyGPT?',\n",
              "   'answers': {'eli5': 'Discrete representations are like a simplified language that the model can understand. They filter out the details that are specific to each modality, like the exact color of an image or the pitch of a sound, and focus on the overall meaning. This makes it easier for the model to learn and process different types of data, and it also allows the model to generate outputs in any modality, not just the one it was trained on.',\n",
              "    'expert': \"Discrete representations provide several key benefits in the context of AnyGPT. Firstly, they enable the model to unify the processing of various modalities at the semantic level, thereby facilitating multimodal understanding and generation. By filtering out high-frequency, modality-specific perceptual information while preserving essential low-frequency semantic information, discrete representations bridge the gap between different modalities and allow the model to operate on a common semantic space. Secondly, discrete representations facilitate the seamless integration of new modalities into the model, akin to the addition of new languages. This is achieved through data-level preprocessing, which eliminates the need for altering the model's architecture or training paradigms. As a result, AnyGPT can easily incorporate new modalities without incurring significant training costs or introducing representational inconsistencies. Thirdly, discrete representations enhance the efficiency of both training and inference stages. By leveraging existing LLM tools and techniques, AnyGPT can capitalize on the vast body of knowledge and resources developed for LLMs, thereby accelerating the training process and improving the model's performance.\"}}},\n",
              " {'question': 'What are the benefits of using discrete representations?',\n",
              "  'answers': {'eli5': 'Discrete representations help AnyGPT to focus on the important parts of different types of information and ignore the unnecessary details.',\n",
              "   'expert': 'Discrete representations filter out high-frequency, modality-specific perceptual information while preserving essential low-frequency semantic information, enabling stable training without altering the LLM architecture or training paradigms.'},\n",
              "  'additional_depth_q': {'follow up question': 'How does the use of discrete representations allow for the seamless integration of new modalities into LLMs?',\n",
              "   'answers': {'eli5': 'Discrete representations simplify multimodal data into bite-sized chunks that the LLM can easily understand, making it easy to add new types of data without changing the LLM itself.',\n",
              "    'expert': 'Discrete representations enable the LLM to process various modalities uniformly at the semantic level, allowing for the seamless integration of new modalities by simply applying appropriate tokenization and de-tokenization processes.'}},\n",
              "  'additional_breath_q': {'follow up question': \"How does AnyGPT's approach differ from previous efforts in any-to-any multimodal generation?\",\n",
              "   'answers': {'eli5': 'AnyGPT uses discrete representations to unify multiple modalities within a single framework, while previous approaches rely on separately pre-trained encoders and decoders, which can lead to representational inconsistencies and training difficulties.',\n",
              "    'expert': 'AnyGPT relies exclusively on data-level pre-processing, without altering the LLM architecture or training objectives, while previous efforts often require substantial modifications to existing models and training algorithms to stabilize the training process.'}}},\n",
              " {'question': 'How was AnyGPT trained?',\n",
              "  'answers': {'eli5': 'AnyGPT was trained on a lot of data that includes text, images, music, and speech. It learned to understand and generate these different types of information by practicing on this data.',\n",
              "   'expert': 'AnyGPT was trained on a multimodal alignment dataset and a synthesized multimodal instruction dataset. The multimodal alignment dataset helps align different modalities with each other, while the multimodal instruction dataset teaches AnyGPT to handle arbitrary combinations of multimodal inputs and outputs.'},\n",
              "  'additional_depth_q': {'follow up question': 'What methodology was utilized for training AnyGPT?',\n",
              "   'answers': {'eli5': 'AnyGPT was trained using a mix of two datasets. The first, called the multimodal alignment dataset, helps different modalities (like images and text) understand each other. The second, called the multimodal instruction dataset, teaches AnyGPT to handle any combination of inputs and outputs from different modalities.',\n",
              "    'expert': 'AnyGPT was trained on two datasets: a multimodal alignment dataset to align different modalities and a multimodal instruction dataset to handle arbitrary combinations of multimodal inputs and outputs. These datasets enable AnyGPT to process various modalities unifiedly.'}},\n",
              "  'additional_breath_q': {'follow up question': 'What are the advantages and disadvantages of using discrete representations as opposed to continuous representations in AnyGPT?',\n",
              "   'answers': {'eli5': 'Discrete representations reduce the high-frequency noise, making training AnyGPT more stable, and also allow for easier integration of new modalities and the application of existing LLM tools.',\n",
              "    'expert': 'Discrete representations in AnyGPT provide multiple advantages over continuous representations. Firstly, they reduce the high-frequency, modality-specific perceptual information while preserving low-frequency semantic information, thereby enhancing the stability of training. Secondly, discrete representations facilitate the seamless integration of new modalities into LLMs, akin to adding new languages. This enables direct utilization of existing LLM tools, which improves both training and inference efficiency.'}}},\n",
              " {'question': 'What can AnyGPT do?',\n",
              "  'answers': {'eli5': 'AnyGPT can understand and generate different types of information, such as text, images, music, and speech. It can also translate between different modalities, such as generating an image from a text description or creating music from a text prompt.',\n",
              "   'expert': 'AnyGPT achieves zero-shot performance comparable to that of specialized models across various modalities. It can also facilitate any-to-any multimodal dialogue, substantiating the feasibility of using discrete representations to unify multiple modalities.'},\n",
              "  'additional_depth_q': {'follow up question': 'How does AnyGPT handle multimodal input and output?',\n",
              "   'answers': {'eli5': 'AnyGPT uses special \"tokens\" to convert different types of input, like images or audio, into a language that the model can understand. It then processes these tokens and generates an output in the same language, which is then converted back into the original format.',\n",
              "    'expert': 'AnyGPT relies on multimodal tokenizers and de-tokenizers to convert raw multimodal data into a sequence of discrete semantic tokens. The core LLM then performs multimodal understanding and generation autoregressively at the semantic level. After processing, the de-tokenizers convert the discrete representations back into the original modal representations at the perceptual level.'}},\n",
              "  'additional_breath_q': {'follow up question': 'How does AnyGPT work?',\n",
              "   'answers': {'eli5': 'AnyGPT is like a smart assistant that can understand and generate different types of information, like text, images, and music. It works by breaking down these different types of information into smaller pieces, called tokens, and then using a special computer program, called a language model, to understand and generate new tokens. This allows AnyGPT to create new information in any of the different formats it understands.',\n",
              "    'expert': 'AnyGPT employs discrete representations to unify various modalities within a single language model. These discrete representations enable the model to process different types of information at a semantic level, facilitating comprehension, understanding, reasoning, and generation in an autoregressive manner. The use of discrete tokens, which filter out high-frequency perceptual information while preserving essential semantic information, allows for stable training without requiring modifications to the LLM architecture or training paradigms.'}}},\n",
              " {'question': 'What are the limitations of AnyGPT?',\n",
              "  'answers': {'eli5': 'AnyGPT is still a work in progress and there are some things that it cannot do yet. For example, it cannot generate perfect images or music, and it sometimes makes mistakes when translating between different modalities.',\n",
              "   'expert': 'The current version of AnyGPT is limited to four modalities: text, images, music, and speech. Additionally, it may encounter challenges in handling complex or ambiguous multimodal inputs.'},\n",
              "  'additional_depth_q': {'follow up question': 'What are the benefits of using discrete representations in AnyGP?',\n",
              "   'answers': {'eli5': 'Discrete representations allow AnyGP to unify multiple modalities, such as text, images, music, and speech, into a single framework. This means that AnyGP can process and generate content that combines different modalities, such as generating a text description of an image or creating a song based on a text prompt. Discrete representations also enables AnyGP to be trained stably without requiring any alterations to the existing LLM architecture or training paradigm, which makes it easier to integrate new modalities into the model.',\n",
              "    'expert': 'Discrete representations offer several advantages in AnyGP. Firstly, they provide a unified framework for processing and generating content across multiple modalities, enabling AnyGP to handle any combination of multimodal inputs and outputs. Secondly, discrete representations facilitate stable training without the need for architectural modifications or complex training procedures. This simplifies the integration of new modalities into the model and enables the application of existing LLM tools, enhancing training and inference efficiency.'}},\n",
              "  'additional_breath_q': {'follow up question': 'Is there any risk of losing the original information when converting raw data into discrete tokens?',\n",
              "   'answers': {'eli5': 'Converting raw data into discrete tokens is like representing a continuous signal with a finite number of levels. There is a risk of losing some of the original information, but in general, discrete tokens capture the essential features of the raw data.',\n",
              "    'expert': 'The conversion of raw data into discrete tokens inevitably involves some loss of information. However, the use of semantic tokens, which capture the low-frequency semantic content of the raw data, helps to mitigate this loss. Moreover, the autoregressive generation process employed by AnyGPT allows the model to refine the discrete representation over time, further reducing the impact of information loss.'}}},\n",
              " {'question': 'What are the potential applications of AnyGPT?',\n",
              "  'answers': {'eli5': 'AnyGPT can be used to create new types of applications that combine different types of information. For example, it could be used to create a virtual assistant that can answer questions, generate images, and play music.',\n",
              "   'expert': 'AnyGPT has the potential to revolutionize various fields, including multimodal search, creative content generation, and human-computer interaction.'},\n",
              "  'additional_depth_q': {'follow up question': 'How does AnyGPT handle different modalities of data?',\n",
              "   'answers': {'eli5': 'AnyGPT uses special tokens to represent different types of data, like images, music, and speech. These tokens are like a secret code that the model understands. The model can then process and understand all these different types of data together, just like how we can understand different languages.',\n",
              "    'expert': 'AnyGPT employs multimodal tokenizers to convert raw multimodal data into sequences of discrete semantic tokens. These tokens enable the core LLM to perform unified multimodal understanding and generation autoregressively. Subsequently, de-tokenizers convert the discrete representations back into the original modal representations at the perceptual level.'}},\n",
              "  'additional_breath_q': {'follow up question': 'How does AnyGPT overcome the challenges faced by existing any-to-any multimodal generation models?',\n",
              "   'answers': {'eli5': 'AnyGPT uses a special trick to turn different types of data, like images, music, and speech, into a special language that the language model can understand. This allows the language model to process all these different types of data together and generate responses that can include any combination of them.',\n",
              "    'expert': 'AnyGPT employs discrete representations for unified multimodal processing, enabling the core LLM to handle perception, understanding, reasoning, and generation autoregressively at the semantic level. This approach leverages data-level pre-processing and post-processing, without modifying the LLM architecture or training objectives, facilitating the seamless integration of new modalities into LLMs and leveraging existing LLM tools for efficient training and inference.'}}},\n",
              " {'question': 'What is the future of AnyGPT?',\n",
              "  'answers': {'eli5': 'AnyGPT is still under development and there is a lot of potential for it to improve in the future. Researchers are working on making it more accurate, efficient, and versatile.',\n",
              "   'expert': 'Future research directions for AnyGPT include expanding the range of supported modalities, improving the quality of multimodal generation, and exploring new applications.'},\n",
              "  'additional_depth_q': {'follow up question': 'How does AnyGPT handle different modalities?',\n",
              "   'answers': {'eli5': 'AnyGPT uses special tokens to turn different types of data, like images, music, and speech, into a language that it can understand. Then, it uses these tokens to understand and create content that can be in any of these formats.',\n",
              "    'expert': 'AnyGPT utilizes discrete representations to unify various modalities through the employment of multimodal tokenizers, which convert raw multimodal data into a sequence of discrete semantic tokens. These tokens allow the core LLM to perform multimodal understanding and generation autoregressively at the semantic level. Subsequently, de-tokenizers convert the discrete representations back into the original modal representations at the perceptual level.'}},\n",
              "  'additional_breath_q': {'follow up question': 'What are the limitations of the AnyGPT model?',\n",
              "   'answers': {'eli5': 'AnyGPT has some limitations. It is not perfect at understanding and generating content for all modalities. Sometimes, it may make mistakes or generate irrelevant content.',\n",
              "    'expert': 'AnyGPT is still under development and has some limitations. For example, it can sometimes generate irrelevant or nonsensical content, and it may not always be able to accurately understand and respond to multimodal input. Additionally, AnyGPT requires a large amount of training data, which can be expensive and time-consuming to collect and process.'}}},\n",
              " {'question': 'How can I use AnyGPT?',\n",
              "  'answers': {'eli5': 'You can use AnyGPT through a variety of interfaces, such as a website or an API. You can also download the code and run it on your own computer.',\n",
              "   'expert': 'AnyGPT is open-source and available for download on GitHub. Developers can use the model for research and development purposes.'},\n",
              "  'additional_depth_q': {'follow up question': 'Can you explain how AnyGPT can be used for multimodal tasks?',\n",
              "   'answers': {'eli5': 'AnyGPT is like a super smart computer that can understand and generate different types of information, such as text, images, music, and speech. To use it, you give it something from one of these types, and it will give you something back in the same or a different type. For example, you could give it a description of an image and ask it to generate the image, or you could give it a song and ask it to generate the lyrics.',\n",
              "    'expert': 'AnyGPT is a multimodal LLM that can be used for a variety of tasks involving multiple modalities. To use it, you can feed it data from one or more modalities and specify the desired output modality. For example, you could give it an image and ask it to generate a description, or you could give it a piece of music and ask it to generate the lyrics. AnyGPT can also be used for more complex tasks, such as generating dialogue or answering questions that require knowledge from multiple modalities.'}},\n",
              "  'additional_breath_q': {'follow up question': 'What is the training process of AnyGPT?',\n",
              "   'answers': {'eli5': 'AnyGPT is trained using a special type of data called \"discrete representations\" that break down different types of information, like images, music, and speech, into smaller pieces. These pieces are then fed into the model, which learns how to understand and generate them. This training process is similar to how a human might learn to understand and speak different languages.',\n",
              "    'expert': 'AnyGPT is trained using a unique approach that involves data-level preprocessing. This means that the model is trained on data that has been converted into a format that the model can understand. The model is then able to learn how to process and generate different types of data, such as images, music, and speech, without any changes to its architecture or training objectives.'}}},\n",
              " {'question': 'What are the ethical implications of AnyGPT?',\n",
              "  'answers': {'eli5': 'As with any powerful technology, there are some ethical concerns that need to be considered when using AnyGPT. For example, it is important to ensure that the model is not used to spread misinformation or to create harmful content.',\n",
              "   'expert': 'The ethical implications of AnyGPT and other multimodal AI models are still being explored. Researchers and policymakers are working to develop guidelines for the responsible use of these technologies.'},\n",
              "  'additional_depth_q': {'follow up question': 'Can AnyGPT be biased, similar to how other AI models can be biased against certain demographics or perspectives?',\n",
              "   'answers': {'eli5': \"AnyGPT, like other AI models, can potentially be biased if the data it is trained on is biased. This means that if the training data contains certain biases, such as against particular demographics or perspectives, the model may learn and amplify those biases. It's important for researchers and developers to be aware of this potential and to take steps to mitigate bias in their models.\",\n",
              "    'expert': 'AnyGPT, like other AI models, can potentially exhibit biases if the data it is trained on is biased. This is because AI models learn from the patterns in the data they are trained on, and if those patterns include biases, the model will learn those biases as well. For example, if the training data contains more examples of one particular demographic or perspective, the model may become biased towards that demographic or perspective. To mitigate bias in AnyGPT, researchers and developers can use techniques such as data augmentation, which involves adding more diverse data to the training set, and bias mitigation algorithms, which can help to reduce the impact of biases in the training data.'}},\n",
              "  'additional_breath_q': {'follow up question': 'What are the limitations and challenges of AnyGPT?',\n",
              "   'answers': {'eli5': 'AnyGPT, like other AI models, has limitations and challenges. One challenge is that it needs a lot of data to train, and it can be hard to get enough data that covers all the different ways that people use language and interact with the world. Another challenge is that AnyGPT can sometimes make mistakes, especially when it is given information that is incomplete or unclear.',\n",
              "    'expert': 'AnyGPT, like other AI models, has limitations and challenges. One challenge is that it needs a lot of data to train, and it can be hard to get enough data that covers all the different ways that people use language and interact with the world. Another challenge is that AnyGPT can sometimes make mistakes, especially when it is given information that is incomplete or unclear. Additionally, AnyGPT is a large and complex model, which can make it difficult to understand and debug.'}}}]"
            ]
          },
          "metadata": {},
          "execution_count": 68
        }
      ]
    },
    {
      "cell_type": "code",
      "source": [],
      "metadata": {
        "id": "UtS5RAFZ_KfB"
      },
      "execution_count": 26,
      "outputs": []
    },
    {
      "cell_type": "markdown",
      "source": [
        "## Gradio UI"
      ],
      "metadata": {
        "id": "UDvzFjzc_QeY"
      }
    },
    {
      "cell_type": "code",
      "source": [
        "!pip install gradio"
      ],
      "metadata": {
        "id": "S_-z2IMD_Ppp"
      },
      "execution_count": null,
      "outputs": []
    },
    {
      "cell_type": "code",
      "source": [
        "import gradio as gr\n",
        "\n",
        "STYLE = \"\"\"\n",
        ".small-font{\n",
        "  font-size: 12pt !important;\n",
        "}\n",
        "\n",
        ".small-font:hover {\n",
        "  font-size: 20px !important;\n",
        "  transition: font-size 0.3s ease-out;\n",
        "  transition-delay: 0.3s;\n",
        "}\n",
        "\n",
        ".group {\n",
        "  padding-left: 10px;\n",
        "  padding-right: 10px;\n",
        "  padding-bottom: 10px;\n",
        "  border: 2px dashed gray;\n",
        "  border-radius: 20px;\n",
        "  box-shadow: 5px 3px 10px 1px rgba(0, 0, 0, 0.4) !important;\n",
        "}\n",
        "\n",
        ".accordion > button > span{\n",
        "  font-size: 12pt !important;\n",
        "}\n",
        "\n",
        ".accordion {\n",
        "  border-style: dashed !important;\n",
        "  border-left-width: 2px !important;\n",
        "  border-bottom-width: 2.5px !important;\n",
        "  border-top: none !important;\n",
        "  border-right: none !important;\n",
        "  box-shadow: none !important;\n",
        "}\n",
        "\"\"\"\n",
        "\n",
        "with gr.Blocks(css=STYLE) as demo:\n",
        "  gr.Markdown(f\"# {qna_json['title']}\")\n",
        "  gr.Markdown(f\"{qna_json['summary']}\", elem_classes=[\"small-font\"])\n",
        "\n",
        "  gr.Markdown(\"## Auto generated Questions & Answers\")\n",
        "\n",
        "  for qna in qnas:\n",
        "    with gr.Column(elem_classes=[\"group\"]):\n",
        "      gr.Markdown(f\"## 🙋 {qna['question']}\")\n",
        "      gr.Markdown(f\"↪ **(ELI5)** {qna['answers']['eli5']}\", elem_classes=[\"small-font\"])\n",
        "      gr.Markdown(f\"↪ **(Technical)** {qna['answers']['expert']}\", elem_classes=[\"small-font\"])\n",
        "\n",
        "      with gr.Accordion(\"Additional question #1\", open=False, elem_classes=[\"accordion\"]):\n",
        "        gr.Markdown(f\"## 🙋🙋 {qna['additional_depth_q']['follow up question']}\")\n",
        "        gr.Markdown(f\"↪ **(ELI5)** {qna['additional_depth_q']['answers']['eli5']}\", elem_classes=[\"small-font\"])\n",
        "        gr.Markdown(f\"↪ **(Technical)** {qna['additional_depth_q']['answers']['expert']}\", elem_classes=[\"small-font\"])\n",
        "\n",
        "      with gr.Accordion(\"Additional question #2\", open=False, elem_classes=[\"accordion\"]):\n",
        "        gr.Markdown(f\"## 🙋🙋 {qna['additional_breath_q']['follow up question']}\")\n",
        "        gr.Markdown(f\"↪ **(ELI5)** {qna['additional_breath_q']['answers']['eli5']}\", elem_classes=[\"small-font\"])\n",
        "        gr.Markdown(f\"↪ **(Technical)** {qna['additional_breath_q']['answers']['expert']}\", elem_classes=[\"small-font\"])\n",
        "\n",
        "demo.launch(share=True)"
      ],
      "metadata": {
        "colab": {
          "base_uri": "https://localhost:8080/",
          "height": 610
        },
        "id": "FT6MIDbT_SlD",
        "outputId": "36f79686-bd8e-40e9-d039-7c68d49e45d2"
      },
      "execution_count": 69,
      "outputs": [
        {
          "output_type": "display_data",
          "data": {
            "text/plain": [
              "<IPython.core.display.HTML object>"
            ],
            "text/html": [
              "\n",
              "  <style>\n",
              "    pre {\n",
              "        white-space: pre-wrap;\n",
              "    }\n",
              "  </style>\n",
              "  "
            ]
          },
          "metadata": {}
        },
        {
          "output_type": "stream",
          "name": "stdout",
          "text": [
            "Colab notebook detected. To show errors in colab notebook, set debug=True in launch()\n",
            "Running on public URL: https://9631a637af28508396.gradio.live\n",
            "\n",
            "This share link expires in 72 hours. For free permanent hosting and GPU upgrades, run `gradio deploy` from Terminal to deploy to Spaces (https://huggingface.co/spaces)\n"
          ]
        },
        {
          "output_type": "display_data",
          "data": {
            "text/plain": [
              "<IPython.core.display.HTML object>"
            ],
            "text/html": [
              "<div><iframe src=\"https://9631a637af28508396.gradio.live\" width=\"100%\" height=\"500\" allow=\"autoplay; camera; microphone; clipboard-read; clipboard-write;\" frameborder=\"0\" allowfullscreen></iframe></div>"
            ]
          },
          "metadata": {}
        },
        {
          "output_type": "execute_result",
          "data": {
            "text/plain": []
          },
          "metadata": {},
          "execution_count": 69
        }
      ]
    },
    {
      "cell_type": "code",
      "source": [],
      "metadata": {
        "id": "m4J8UI6s_aDc"
      },
      "execution_count": null,
      "outputs": []
    }
  ]
}