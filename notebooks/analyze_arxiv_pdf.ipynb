{
  "nbformat": 4,
  "nbformat_minor": 0,
  "metadata": {
    "colab": {
      "provenance": [],
      "authorship_tag": "ABX9TyNgNOZxk1aS41VSzKS+CD4r",
      "include_colab_link": true
    },
    "kernelspec": {
      "name": "python3",
      "display_name": "Python 3"
    },
    "language_info": {
      "name": "python"
    }
  },
  "cells": [
    {
      "cell_type": "markdown",
      "metadata": {
        "id": "view-in-github",
        "colab_type": "text"
      },
      "source": [
        "<a href=\"https://colab.research.google.com/github/deep-diver/auto-paper-analysis/blob/main/notebooks/analyze_arxiv_pdf.ipynb\" target=\"_parent\"><img src=\"https://colab.research.google.com/assets/colab-badge.svg\" alt=\"Open In Colab\"/></a>"
      ]
    },
    {
      "cell_type": "code",
      "source": [
        "from IPython.display import HTML, display\n",
        "from IPython.display import Markdown\n",
        "\n",
        "def set_css():\n",
        "  display(HTML('''\n",
        "  <style>\n",
        "    pre {\n",
        "        white-space: pre-wrap;\n",
        "    }\n",
        "  </style>\n",
        "  '''))\n",
        "get_ipython().events.register('pre_run_cell', set_css)"
      ],
      "metadata": {
        "id": "KV4QkPCAAwmz"
      },
      "execution_count": 15,
      "outputs": []
    },
    {
      "cell_type": "code",
      "source": [
        "!pip install google-generativeai\n",
        "!pip install pypdf2\n",
        "!pip install fitz\n",
        "!pip install pymupdf"
      ],
      "metadata": {
        "id": "Jpxsv3SEs4ET"
      },
      "execution_count": null,
      "outputs": []
    },
    {
      "cell_type": "code",
      "execution_count": 14,
      "metadata": {
        "id": "VEq5clsosz35"
      },
      "outputs": [],
      "source": [
        "GEMINI_API_KEY=\"...\""
      ]
    },
    {
      "cell_type": "code",
      "source": [
        "import requests\n",
        "\n",
        "def download_pdf_from_arxiv(arxiv_id):\n",
        "  url = f'http://export.arxiv.org/pdf/{arxiv_id}'\n",
        "  response = requests.get(url)\n",
        "  if response.status_code == 200:\n",
        "    return response.content\n",
        "  else:\n",
        "    raise Exception(f\"Failed to download pdf for arXiv id {arxiv_id}\")\n",
        "\n",
        "# Example usage\n",
        "arxiv_id = \"2306.00001\"\n",
        "pdf_content = download_pdf_from_arxiv(arxiv_id)\n",
        "\n",
        "# Save the pdf content to a file\n",
        "with open(f\"{arxiv_id}.pdf\", \"wb\") as f:\n",
        "  f.write(pdf_content)\n"
      ],
      "metadata": {
        "id": "g9Ima2kQtLPJ"
      },
      "execution_count": 3,
      "outputs": []
    },
    {
      "cell_type": "code",
      "source": [
        "import fitz  # PyMuPDF\n",
        "import PyPDF2\n",
        "\n",
        "def extract_text_and_figures(pdf_path):\n",
        "    \"\"\"\n",
        "    Extracts text and figures from a PDF file.\n",
        "\n",
        "    Args:\n",
        "        pdf_path (str): The path to the PDF file.\n",
        "\n",
        "    Returns:\n",
        "        tuple: A tuple containing two lists:\n",
        "            * A list of extracted text blocks.\n",
        "            * A list of extracted figures (as bytes).\n",
        "    \"\"\"\n",
        "\n",
        "    texts = []\n",
        "    figures = []\n",
        "\n",
        "    # Open the PDF using PyMuPDF (fitz) for image extraction\n",
        "    doc = fitz.open(pdf_path)\n",
        "    for page_num, page in enumerate(doc):\n",
        "        text = page.get_text(\"text\")  # Extract text as plain text\n",
        "        texts.append(text)\n",
        "\n",
        "        # Process images on the page\n",
        "        image_list = page.get_images()\n",
        "        for image_index, img in enumerate(image_list):\n",
        "            xref = img[0]  # Image XREF\n",
        "            pix = fitz.Pixmap(doc, xref)  # Create Pixmap image\n",
        "\n",
        "            # Save image in desired format (here, PNG)\n",
        "            if pix.n < 5:  # Grayscale or RGB\n",
        "                img_bytes = pix.tobytes(\"png\")\n",
        "            else:  # CMYK: Convert to RGB first\n",
        "                pix = fitz.Pixmap(fitz.csRGB, pix)\n",
        "                img_bytes = pix.tobytes(\"png\")\n",
        "\n",
        "            figures.append(img_bytes)\n",
        "\n",
        "    # Extract additional text using PyPDF2 (in case fitz didn't get everything)\n",
        "    with open(pdf_path, 'rb') as pdf_file:\n",
        "        pdf_reader = PyPDF2.PdfReader(pdf_file)\n",
        "        for page_num in range(len(pdf_reader.pages)):\n",
        "            page = pdf_reader.pages[page_num]\n",
        "            text = page.extract_text()\n",
        "            texts.append(text)\n",
        "\n",
        "    return texts, figures\n"
      ],
      "metadata": {
        "id": "wci-rQVXtvHF"
      },
      "execution_count": 4,
      "outputs": []
    },
    {
      "cell_type": "code",
      "source": [
        "texts, figures = extract_text_and_figures(f'{arxiv_id}.pdf')"
      ],
      "metadata": {
        "id": "m9FQwxPyufzQ"
      },
      "execution_count": 5,
      "outputs": []
    },
    {
      "cell_type": "code",
      "source": [
        "texts[0]"
      ],
      "metadata": {
        "colab": {
          "base_uri": "https://localhost:8080/",
          "height": 143
        },
        "id": "hUovrG-5uwbS",
        "outputId": "709634d9-d777-4af9-cbcf-ff51c990e50d"
      },
      "execution_count": 6,
      "outputs": [
        {
          "output_type": "execute_result",
          "data": {
            "text/plain": [
              "'This paper has been accepted for publication at the\\nIEEE Conference on Artiﬁcial Intelligence Circuits and Systems (AICAS), Hangzhou, 2023.\\n©2023 IEEE. Personal use of this material is permitted. Permission from IEEE must be obtained for all other uses, in any current or future\\nmedia, including reprinting/republishing this material for advertising or promotional purposes, creating new collective works, for resale or\\nredistribution to servers or lists, or reuse of any copyrighted component of this work in other works.\\nTinyissimoYOLO: A Quantized, Low-Memory\\nFootprint, TinyML Object Detection Network for\\nLow Power Microcontrollers\\nJulian Moosmann, Marco Giordano, Christian Vogt, Michele Magno\\nCenter for Project Based Learning - ETH Z¨urich\\njulian.moosmann, marco.giordano, christian.vogt, michele.magno@pbl.ee.ethz.ch\\nAbstract—This paper introduces a highly ﬂexible, quantized,\\nmemory-efﬁcient, and ultra-lightweight object detection network,\\ncalled TinyissimoYOLO. It aims to enable object detection on\\nmicrocontrollers in the power domain of milliwatts, with less\\nthan 0.5 MB memory available for storing convolutional neural\\nnetwork (CNN) weights. The proposed quantized network archi-\\ntecture with 422 k parameters, enables real-time object detection\\non embedded microcontrollers, and it has been evaluated to\\nexploit CNN accelerators. In particular, the proposed network has\\nbeen deployed on the MAX78000 microcontroller achieving high\\nframe-rate of up to 180 fps and an ultra-low energy consumption\\nof only 196 µJ per inference with an inference efﬁciency of more\\nthan 106 MAC/Cycle. TinyissimoYOLO can be trained for any\\nmulti-object detection. However, considering the small network\\nsize, adding object detection classes will increase the size and\\nmemory consumption of the network, thus object detection\\nwith up to 3 classes is demonstrated. Furthermore, the net-\\nwork is trained using quantization-aware training and deployed\\nwith 8-bit quantization on different microcontrollers, such as\\nSTM32H7A3, STM32L4R9, Apollo4b and on the MAX78000’s\\nCNN accelerator. Performance evaluations are presented in this\\npaper.\\nIndex Terms—YOLO, ML, computer vision, object detection,\\nCNN accelerator, microcontroller, quantization, quantization-\\naware training\\nI. INTRODUCTION\\nObject detection on edge devices such as microcontroller\\nunits (µCs) have the capability of reducing detection latency\\nand increasing the overall energy efﬁciency by running on-\\ndevice network inferences [1], [2]. In addition, the sensitive\\ntransmission of sensor data is reduced or substituted, reducing\\nprivacy issues to a minimum. Furthermore, emerging dedicated\\nhardware accelerators for machine learning (ML) models are\\nenabling edge processing and edge artiﬁcial intelligence (AI)\\nreducing the energy consumption for inference and enabling\\nreal-time on-board processing on resource-constrained micro-\\ncontrollers [3]. On such constrained devices, computational\\npower is signiﬁcantly reduced and does not allow for the\\ndeployment of classical object detection deep neural networks\\n(DNNs) such as you only look once (YOLO) [4], region-based\\nconvolutional neural networks (R-CNNs) [5] or single shot\\ndetectors (SSDs) [6] because their memory requirements are\\nsigniﬁcantly exceeding the available memory of few kilobytes\\ntypically available in such devices. However, their fundamental\\nThe authors would like to thank armasuisse Science & Technology for\\nfunding this research.\\nideas are of importance for designing new DNNs, especially\\nfor the emerging ﬁeld of edge AI.\\nIn fact, to keep the power consumption in the order of a few\\nmilliwatts, the computational power on µCs is signiﬁcantly\\nlower compared to CPUs and GPUs. Thus, object detection\\nnetworks need to be carefully designed and optimized for\\nsuch tiny devices in particular to achieve a small memory\\nfootprint and a high number of operations processed per cycle\\n[7]. To overcome the memory constraints, several different\\nmethods have been recently reported in literature, such as\\npruning [8], [9], quantization [10], [11], new frameworks\\ndeveloped for memory efﬁcient inference [12], patch-based\\ninference scheduling [13] or neural architecture searches in-\\ncluding search spaces specialized for memory-constrained\\ndevices [14], [15]. These techniques are used to reduce the\\nmemory and complexity of existing state-of-the-art networks\\nto deploy on a tiny device while keeping the original network’s\\nstructure and still achieving similar inference accuracy while\\nperformance (especially inference speed) is often neglected\\n[16]. Among other techniques, quantization is one of the\\nmost promising and popular, as it reduces both the memory\\nrequirements and increases the number of operations per\\nsecond that µCs can perform. Li et al. (2019) [17] have\\nshown that quantizing an object detection network to 4-bit,\\nthey achieve state-of-the-art prediction accuracy with a mean\\naverage precision (mAP) loss of only 2 % to 5 % compared\\nto its full precision counterpart while having 8x less memory\\noccupation.\\nTo the best of our knowledge, there is still no previous work\\nthat adopts those techniques to achieve a generalized object\\ndetection network, ready for deployment on edge devices and\\nµCs with less than 0.5 MB of weight memory, that are able\\nto achieve similar accuracy performance of larger networks.\\nThis paper proposes a quantized and highly accurate object\\ndetection convolutional neural network (CNN) based on the\\narchitecture of YOLO [4] suitable for edge processors with\\nlimited memory and computational resources. The proposed\\nnetwork is composed of quantized convolutional layers with\\n3x3 kernels and a fully connected layer at the output. It is\\ndesigned for having a low memory footprint of less than\\n0.5 MB. The proposed network is trained and evaluated on\\nthe WiderFace dataset [18]. Furthermore, to showcase multi-\\nobject detection capability, while keeping the network small,\\narXiv:2306.00001v2  [cs.CV]  12 Jul 2023\\n'"
            ],
            "application/vnd.google.colaboratory.intrinsic+json": {
              "type": "string"
            }
          },
          "metadata": {},
          "execution_count": 6
        }
      ]
    },
    {
      "cell_type": "code",
      "source": [
        "print(len(figures))\n",
        "print(type(figures[0]))"
      ],
      "metadata": {
        "colab": {
          "base_uri": "https://localhost:8080/"
        },
        "id": "W06HEk3AwzJa",
        "outputId": "23cd35cf-f99d-4fff-cd61-cc829f7b828c"
      },
      "execution_count": 7,
      "outputs": [
        {
          "output_type": "stream",
          "name": "stdout",
          "text": [
            "1\n",
            "<class 'bytes'>\n"
          ]
        }
      ]
    },
    {
      "cell_type": "code",
      "source": [
        "import io\n",
        "from PIL import Image\n",
        "\n",
        "img = Image.open(io.BytesIO(figures[0]))\n",
        "display(img)"
      ],
      "metadata": {
        "colab": {
          "base_uri": "https://localhost:8080/",
          "height": 440
        },
        "id": "O-LbjMwEw7mM",
        "outputId": "10f12631-ae5b-49d1-ecd6-32c32354bb30"
      },
      "execution_count": 25,
      "outputs": [
        {
          "output_type": "display_data",
          "data": {
            "text/plain": [
              "<IPython.core.display.HTML object>"
            ],
            "text/html": [
              "\n",
              "  <style>\n",
              "    pre {\n",
              "        white-space: pre-wrap;\n",
              "    }\n",
              "  </style>\n",
              "  "
            ]
          },
          "metadata": {}
        },
        {
          "output_type": "display_data",
          "data": {
            "text/plain": [
              "<PIL.PngImagePlugin.PngImageFile image mode=RGB size=1630x538>"
            ],
            "image/png": "[encoded data removed]"
          },
          "metadata": {}
        }
      ]
    },
    {
      "cell_type": "code",
      "source": [
        "def determine_model_name(given_image=None):\n",
        "  if given_image is None:\n",
        "    return \"gemini-pro\"\n",
        "  else:\n",
        "    return \"gemini-pro-vision\"\n",
        "\n",
        "def construct_image_part(given_image):\n",
        "  return {\n",
        "    \"mime_type\": \"image/jpeg\",\n",
        "    \"data\": given_image\n",
        "  }\n",
        "\n",
        "def call_gemini(prompt=\"\", API_KEY=None, given_text=None, given_image=None, generation_config=None, safety_settings=None):\n",
        "  import google.generativeai as genai\n",
        "  genai.configure(api_key=API_KEY)\n",
        "\n",
        "  if generation_config is None:\n",
        "    generation_config = {\n",
        "      \"temperature\": 0.4,\n",
        "      \"top_p\": 1,\n",
        "      \"top_k\": 32,\n",
        "      \"max_output_tokens\": 8192,\n",
        "    }\n",
        "\n",
        "  if safety_settings is None:\n",
        "    safety_settings = [\n",
        "      {\n",
        "        \"category\": \"HARM_CATEGORY_HARASSMENT\",\n",
        "        \"threshold\": \"BLOCK_ONLY_HIGH\"\n",
        "      },\n",
        "      {\n",
        "        \"category\": \"HARM_CATEGORY_HATE_SPEECH\",\n",
        "        \"threshold\": \"BLOCK_ONLY_HIGH\"\n",
        "      },\n",
        "      {\n",
        "        \"category\": \"HARM_CATEGORY_SEXUALLY_EXPLICIT\",\n",
        "        \"threshold\": \"BLOCK_ONLY_HIGH\"\n",
        "      },\n",
        "      {\n",
        "        \"category\": \"HARM_CATEGORY_DANGEROUS_CONTENT\",\n",
        "        \"threshold\": \"BLOCK_ONLY_HIGH\"\n",
        "      },\n",
        "    ]\n",
        "\n",
        "  model_name = determine_model_name(given_image)\n",
        "  model = genai.GenerativeModel(model_name=model_name,\n",
        "                                generation_config=generation_config,\n",
        "                                safety_settings=safety_settings)\n",
        "\n",
        "  USER_PROMPT = f\"\"\"\n",
        "  {prompt}\n",
        "  ------------------------------------------------\n",
        "  {given_text}\n",
        "  \"\"\"\n",
        "  prompt_parts = [USER_PROMPT]\n",
        "  if given_image is not None:\n",
        "    prompt_parts.append(construct_image_part(given_image))\n",
        "\n",
        "  response = model.generate_content(prompt_parts)\n",
        "  return response.text"
      ],
      "metadata": {
        "colab": {
          "base_uri": "https://localhost:8080/",
          "height": 17
        },
        "id": "aZlduBW44Uil",
        "outputId": "ab5a7578-04f2-4c5e-fd46-41330d0da9b0"
      },
      "execution_count": 30,
      "outputs": [
        {
          "output_type": "display_data",
          "data": {
            "text/plain": [
              "<IPython.core.display.HTML object>"
            ],
            "text/html": [
              "\n",
              "  <style>\n",
              "    pre {\n",
              "        white-space: pre-wrap;\n",
              "    }\n",
              "  </style>\n",
              "  "
            ]
          },
          "metadata": {}
        }
      ]
    },
    {
      "cell_type": "code",
      "source": [
        "text =' '.join(texts)"
      ],
      "metadata": {
        "colab": {
          "base_uri": "https://localhost:8080/",
          "height": 17
        },
        "id": "mh0ohRYSYJBb",
        "outputId": "adb1cb12-5940-488c-fca9-f9be60992cec"
      },
      "execution_count": 35,
      "outputs": [
        {
          "output_type": "display_data",
          "data": {
            "text/plain": [
              "<IPython.core.display.HTML object>"
            ],
            "text/html": [
              "\n",
              "  <style>\n",
              "    pre {\n",
              "        white-space: pre-wrap;\n",
              "    }\n",
              "  </style>\n",
              "  "
            ]
          },
          "metadata": {}
        }
      ]
    },
    {
      "cell_type": "code",
      "source": [
        "summary_json = call_gemini(\n",
        "    prompt='Below is an academic paper extracted from a PDF file. '\n",
        "           'Come up with 10 questions ranging from basic to expert levels along with summarization. '\n",
        "           'Give me your response by filling in the following JSON. '\n",
        "           '{\"title\": text, \"summary\": text, \"qa\": [{\"q\": text, \"a\": text}, ...]}',\n",
        "    given_text=text,\n",
        "    API_KEY=GEMINI_API_KEY\n",
        ")"
      ],
      "metadata": {
        "colab": {
          "base_uri": "https://localhost:8080/",
          "height": 17
        },
        "id": "U11PgP2yyFcD",
        "outputId": "5c142180-13b5-4adf-d75f-15651ceb29ac"
      },
      "execution_count": 49,
      "outputs": [
        {
          "output_type": "display_data",
          "data": {
            "text/plain": [
              "<IPython.core.display.HTML object>"
            ],
            "text/html": [
              "\n",
              "  <style>\n",
              "    pre {\n",
              "        white-space: pre-wrap;\n",
              "    }\n",
              "  </style>\n",
              "  "
            ]
          },
          "metadata": {}
        }
      ]
    },
    {
      "cell_type": "code",
      "source": [
        "summary_json"
      ],
      "metadata": {
        "colab": {
          "base_uri": "https://localhost:8080/",
          "height": 143
        },
        "id": "7k4KGMGX9Zps",
        "outputId": "7bca51a1-9b73-4e0c-c9a2-1f9344d6d283"
      },
      "execution_count": 60,
      "outputs": [
        {
          "output_type": "display_data",
          "data": {
            "text/plain": [
              "<IPython.core.display.HTML object>"
            ],
            "text/html": [
              "\n",
              "  <style>\n",
              "    pre {\n",
              "        white-space: pre-wrap;\n",
              "    }\n",
              "  </style>\n",
              "  "
            ]
          },
          "metadata": {}
        },
        {
          "output_type": "execute_result",
          "data": {
            "text/plain": [
              "'{\\n \"title\": \"TinyissimoYOLO: A Quantized, Low-Memory Footprint, TinyML Object Detection Network for Low Power Microcontrollers\",\\n \"summary\": \"This paper introduces TinyissimoYOLO, a quantized, memory-efficient, and ultra-lightweight object detection network suitable for edge processors with limited memory and computational resources. The proposed network is composed of quantized convolutional layers with 3x3 kernels and a fully connected layer at the output. It is designed to have a low memory footprint of less than 0.5 MB. The proposed network is trained and evaluated on the WiderFace dataset and a sub-set of the PascalVOC dataset. Furthermore, the network is deployed quantized and memory-efficient on different microcontrollers, such as the STM32H7A3 and STM32L4R9 from STMicroelectronics, Ambiq\\\\u2019s Apollo4b and on a novel microcontroller, MAX78000 from Analog Devices, which has a built-in CNN accelerator. The performance of the different architectures is compared and it is shown, how the MAX78000 outperforms the other microcontrollers. Furthermore, this paper investigates the effect of mAP against relative object size dimensions within images.\",\\n \"qa\": [\\n  {\\n   \"q\": \"What is the main contribution of this paper?\",\\n   \"a\": \"The main contribution of this paper is the introduction of TinyissimoYOLO, a quantized, memory-efficient, and ultra-lightweight object detection network suitable for edge processors with limited memory and computational resources.\"\\n  },\\n  {\\n   \"q\": \"What are the key design decisions of the TinyissimoYOLO network?\",\\n   \"a\": \"The key design decisions of the TinyissimoYOLO network encompass the following 4 points:\\\\n\\\\n* input image size,\\\\n* hidden convolutional layers,\\\\n* fully connected linear layer before the output layer,\\\\n* output layer size.\"\\n  },\\n  {\\n   \"q\": \"How is the TinyissimoYOLO network trained and evaluated?\",\\n   \"a\": \"The TinyissimoYOLO network is trained and evaluated on the WiderFace dataset and a sub-set of the PascalVOC dataset.\"\\n  },\\n  {\\n   \"q\": \"On which microcontrollers is the TinyissimoYOLO network deployed?\",\\n   \"a\": \"The TinyissimoYOLO network is deployed quantized and memory-efficient on different microcontrollers, such as the STM32H7A3 and STM32L4R9 from STMicroelectronics, Ambiq\\\\u2019s Apollo4b and on a novel microcontroller, MAX78000 from Analog Devices, which has a built-in CNN accelerator.\"\\n  },\\n  {\\n   \"q\": \"How does the MAX78000 microcontroller compare to the other microcontrollers in terms of performance?\",\\n   \"a\": \"The MAX78000 microcontroller outperforms the other microcontrollers in terms of latency, inference efficiency and energy per inference.\"\\n  },\\n  {\\n   \"q\": \"What is the effect of mAP against relative object size dimensions within images?\",\\n   \"a\": \"This paper investigates the effect of mAP against relative object size dimensions within images and shows that training the network on input images with objects adequate for its input size increases network performance on a restricted evaluation as well as when evaluating the network on the original validation dataset.\"\\n  },\\n  {\\n   \"q\": \"What is the memory footprint of the TinyissimoYOLO network?\",\\n   \"a\": \"The memory footprint of the TinyissimoYOLO network is less than 0.5 MB.\"\\n  },\\n  {\\n   \"q\": \"What is the input image size of the TinyissimoYOLO network?\",\\n   \"a\": \"The input image size of the TinyissimoYOLO network is 88x88 pixels.\"\\n  },\\n  {\\n   \"q\": \"What is the output layer size of the TinyissimoYOLO network?\",\\n   \"a\": \"The output layer size of the TinyissimoYOLO network is 4x4(2xBbox+C).\"\\n  },\\n  {\\n   \"q\": \"What is the number of convolutional layers in the TinyissimoYOLO network?\",\\n   \"a\": \"The number of convolutional layers in the TinyissimoYOLO network is 10.\"\\n  }\\n ]\\n}'"
            ],
            "application/vnd.google.colaboratory.intrinsic+json": {
              "type": "string"
            }
          },
          "metadata": {},
          "execution_count": 60
        }
      ]
    },
    {
      "cell_type": "code",
      "source": [
        "import json\n",
        "summary = json.loads(summary_json)"
      ],
      "metadata": {
        "colab": {
          "base_uri": "https://localhost:8080/",
          "height": 17
        },
        "id": "epebCJTAaHgx",
        "outputId": "ed59441d-606a-4c9d-dc9d-77fd2dc8ba3a"
      },
      "execution_count": 51,
      "outputs": [
        {
          "output_type": "display_data",
          "data": {
            "text/plain": [
              "<IPython.core.display.HTML object>"
            ],
            "text/html": [
              "\n",
              "  <style>\n",
              "    pre {\n",
              "        white-space: pre-wrap;\n",
              "    }\n",
              "  </style>\n",
              "  "
            ]
          },
          "metadata": {}
        }
      ]
    },
    {
      "cell_type": "code",
      "source": [
        "for qas in summary['qa']:\n",
        "  print(qas['q'])"
      ],
      "metadata": {
        "colab": {
          "base_uri": "https://localhost:8080/",
          "height": 196
        },
        "id": "ddcUjLlyfZqx",
        "outputId": "14266387-6829-452c-ab77-2bfc44acf506"
      },
      "execution_count": 59,
      "outputs": [
        {
          "output_type": "display_data",
          "data": {
            "text/plain": [
              "<IPython.core.display.HTML object>"
            ],
            "text/html": [
              "\n",
              "  <style>\n",
              "    pre {\n",
              "        white-space: pre-wrap;\n",
              "    }\n",
              "  </style>\n",
              "  "
            ]
          },
          "metadata": {}
        },
        {
          "output_type": "stream",
          "name": "stdout",
          "text": [
            "What is the main contribution of this paper?\n",
            "What are the key design decisions of the TinyissimoYOLO network?\n",
            "How is the TinyissimoYOLO network trained and evaluated?\n",
            "On which microcontrollers is the TinyissimoYOLO network deployed?\n",
            "How does the MAX78000 microcontroller compare to the other microcontrollers in terms of performance?\n",
            "What is the effect of mAP against relative object size dimensions within images?\n",
            "What is the memory footprint of the TinyissimoYOLO network?\n",
            "What is the input image size of the TinyissimoYOLO network?\n",
            "What is the output layer size of the TinyissimoYOLO network?\n",
            "What is the number of convolutional layers in the TinyissimoYOLO network?\n"
          ]
        }
      ]
    },
    {
      "cell_type": "code",
      "source": [
        "fig0_desc = call_gemini(\n",
        "    prompt=f'Below is the summary of the academic paper, {summary[\"title\"]}. '\n",
        "           'Based on the summary, give me the description of the given figure. '\n",
        "           'Give me your response by filling in the following JSON. '\n",
        "           '{\"description\": text}',\n",
        "    given_text=summary['summary'],\n",
        "    given_image=figures[0],\n",
        "    API_KEY=GEMINI_API_KEY\n",
        ")"
      ],
      "metadata": {
        "colab": {
          "base_uri": "https://localhost:8080/",
          "height": 17
        },
        "id": "NBo9-DyP-xgQ",
        "outputId": "b3d1378d-54b6-4e0d-9016-7318cf64c550"
      },
      "execution_count": 53,
      "outputs": [
        {
          "output_type": "display_data",
          "data": {
            "text/plain": [
              "<IPython.core.display.HTML object>"
            ],
            "text/html": [
              "\n",
              "  <style>\n",
              "    pre {\n",
              "        white-space: pre-wrap;\n",
              "    }\n",
              "  </style>\n",
              "  "
            ]
          },
          "metadata": {}
        }
      ]
    },
    {
      "cell_type": "code",
      "source": [
        "fig0_desc"
      ],
      "metadata": {
        "colab": {
          "base_uri": "https://localhost:8080/",
          "height": 71
        },
        "id": "OqiOW3CcX7hT",
        "outputId": "0d6c22c4-4933-4ce6-be4a-67ebf3eddedb"
      },
      "execution_count": 61,
      "outputs": [
        {
          "output_type": "display_data",
          "data": {
            "text/plain": [
              "<IPython.core.display.HTML object>"
            ],
            "text/html": [
              "\n",
              "  <style>\n",
              "    pre {\n",
              "        white-space: pre-wrap;\n",
              "    }\n",
              "  </style>\n",
              "  "
            ]
          },
          "metadata": {}
        },
        {
          "output_type": "execute_result",
          "data": {
            "text/plain": [
              "' {\"description\": \"This figure shows the architecture of the proposed TinyissimoYOLO network. It consists of a stack of convolutional layers with 3x3 kernels and a fully connected layer at the output. The network is designed to have a low memory footprint and is suitable for edge processors with limited memory and computational resources.\"}'"
            ],
            "application/vnd.google.colaboratory.intrinsic+json": {
              "type": "string"
            }
          },
          "metadata": {},
          "execution_count": 61
        }
      ]
    },
    {
      "cell_type": "code",
      "source": [],
      "metadata": {
        "id": "L08gV3DMbIoT"
      },
      "execution_count": null,
      "outputs": []
    }
  ]
}